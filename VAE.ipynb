{
  "nbformat": 4,
  "nbformat_minor": 0,
  "metadata": {
    "colab": {
      "provenance": [],
      "gpuType": "T4"
    },
    "kernelspec": {
      "name": "python3",
      "display_name": "Python 3"
    },
    "language_info": {
      "name": "python"
    },
    "accelerator": "GPU"
  },
  "cells": [
    {
      "cell_type": "markdown",
      "source": [
        "Bernardo Vale dos Santos Bento\n",
        "\n",
        "2023002065"
      ],
      "metadata": {
        "id": "dUIoWhZzMFuP"
      }
    },
    {
      "cell_type": "code",
      "source": [
        "import torch\n",
        "import torch.nn as nn\n",
        "import torch.nn.functional as F\n",
        "from torchvision import datasets, transforms\n",
        "from torch.utils.data import DataLoader\n",
        "import matplotlib.pyplot as plt\n",
        "import numpy as np"
      ],
      "metadata": {
        "id": "waXP2A5JPMrN"
      },
      "execution_count": null,
      "outputs": []
    },
    {
      "cell_type": "markdown",
      "source": [
        "# **Def**"
      ],
      "metadata": {
        "id": "q3QPerTTOIAK"
      }
    },
    {
      "cell_type": "code",
      "source": [
        "device = torch.device(\"cuda\" if torch.cuda.is_available() else \"cpu\")\n",
        "\n",
        "# Hiperparâmetros\n",
        "batch_size = 128\n",
        "latent_dim = 2\n",
        "epochs = 20\n",
        "lr = 1e-3\n",
        "\n",
        "# Dataset Fashion-MNIST\n",
        "transform = transforms.Compose([\n",
        "    transforms.ToTensor()\n",
        "])\n",
        "\n",
        "train_dataset = datasets.FashionMNIST(root='./data', train=True, transform=transform, download=True)\n",
        "test_dataset = datasets.FashionMNIST(root='./data', train=False, transform=transform, download=True)\n",
        "\n",
        "train_loader = DataLoader(train_dataset, batch_size=batch_size, shuffle=True)\n",
        "test_loader = DataLoader(test_dataset, batch_size=batch_size)"
      ],
      "metadata": {
        "colab": {
          "base_uri": "https://localhost:8080/"
        },
        "id": "uan_41drJsN6",
        "outputId": "2aef5fd4-8340-4d9c-dde1-a233f0e443f6"
      },
      "execution_count": null,
      "outputs": [
        {
          "output_type": "stream",
          "name": "stderr",
          "text": [
            "100%|██████████| 26.4M/26.4M [00:02<00:00, 11.3MB/s]\n",
            "100%|██████████| 29.5k/29.5k [00:00<00:00, 169kB/s]\n",
            "100%|██████████| 4.42M/4.42M [00:01<00:00, 3.17MB/s]\n",
            "100%|██████████| 5.15k/5.15k [00:00<00:00, 15.5MB/s]\n"
          ]
        }
      ]
    },
    {
      "cell_type": "markdown",
      "source": [
        "# **VAE**"
      ],
      "metadata": {
        "id": "YPGYSDQKJ5Zk"
      }
    },
    {
      "cell_type": "code",
      "source": [
        "# Modelo Encoder\n",
        "class Encoder(nn.Module):\n",
        "    def __init__(self, latent_dim):\n",
        "        super(Encoder, self).__init__()\n",
        "        self.conv1 = nn.Conv2d(1, 32, 3, stride=2, padding=1)  # 14x14x32\n",
        "        self.conv2 = nn.Conv2d(32, 64, 3, stride=2, padding=1) # 7x7x64\n",
        "        self.flatten = nn.Flatten()\n",
        "        self.fc = nn.Linear(7*7*64, 128)\n",
        "        self.fc_mean = nn.Linear(128, latent_dim)\n",
        "        self.fc_logvar = nn.Linear(128, latent_dim)\n",
        "\n",
        "    def forward(self, x):\n",
        "        x = F.relu(self.conv1(x))\n",
        "        x = F.relu(self.conv2(x))\n",
        "        x = self.flatten(x)\n",
        "        x = F.relu(self.fc(x))\n",
        "        z_mean = self.fc_mean(x)\n",
        "        z_logvar = self.fc_logvar(x)\n",
        "        return z_mean, z_logvar\n",
        "\n",
        "# z\n",
        "def reparameterize(mu, logvar):\n",
        "    std = torch.exp(0.5 * logvar)\n",
        "    eps = torch.randn_like(std)\n",
        "    return mu + eps * std\n",
        "\n",
        "# Modelo Decoder\n",
        "class Decoder(nn.Module):\n",
        "    def __init__(self, latent_dim):\n",
        "        super(Decoder, self).__init__()\n",
        "        self.fc = nn.Linear(latent_dim, 7*7*64)\n",
        "        self.deconv1 = nn.ConvTranspose2d(64, 64, 3, stride=2, padding=1, output_padding=1)\n",
        "        self.deconv2 = nn.ConvTranspose2d(64, 32, 3, stride=2, padding=1, output_padding=1)\n",
        "        self.deconv3 = nn.ConvTranspose2d(32, 1, 3, padding=1)\n",
        "\n",
        "    def forward(self, z):\n",
        "        x = F.relu(self.fc(z))\n",
        "        x = x.view(-1, 64, 7, 7)\n",
        "        x = F.relu(self.deconv1(x))     # 14x14\n",
        "        x = F.relu(self.deconv2(x))     # 28x28\n",
        "        x = torch.sigmoid(self.deconv3(x))  # 1x28x28\n",
        "        return x\n",
        "\n",
        "# VAE Model\n",
        "class VAE(nn.Module):\n",
        "    def __init__(self, latent_dim):\n",
        "        super(VAE, self).__init__()\n",
        "        self.encoder = Encoder(latent_dim)\n",
        "        self.decoder = Decoder(latent_dim)\n",
        "\n",
        "    def forward(self, x):\n",
        "        mu, logvar = self.encoder(x)\n",
        "        z = reparameterize(mu, logvar)\n",
        "        recon = self.decoder(z)\n",
        "        return recon, mu, logvar"
      ],
      "metadata": {
        "id": "O9Ko04kzJ9ZQ"
      },
      "execution_count": null,
      "outputs": []
    },
    {
      "cell_type": "markdown",
      "source": [
        "# **Treino**"
      ],
      "metadata": {
        "id": "AGEwvn2PKF5W"
      }
    },
    {
      "cell_type": "code",
      "source": [
        "# (reconstrução + KL divergence)\n",
        "def loss_function(recon_x, x, mu, logvar):\n",
        "    recon_loss = F.binary_cross_entropy(recon_x, x, reduction='sum')\n",
        "    kl_loss = -0.5 * torch.sum(1 + logvar - mu.pow(2) - logvar.exp())\n",
        "    return recon_loss + kl_loss\n",
        "\n",
        "model = VAE(latent_dim).to(device)\n",
        "optimizer = torch.optim.Adam(model.parameters(), lr=lr)\n",
        "\n",
        "# Treinamento\n",
        "model.train()\n",
        "for epoch in range(epochs):\n",
        "    train_loss = 0\n",
        "    for batch_idx, (x, _) in enumerate(train_loader):\n",
        "        x = x.to(device)\n",
        "        optimizer.zero_grad()\n",
        "        recon_batch, mu, logvar = model(x)\n",
        "        loss = loss_function(recon_batch, x, mu, logvar)\n",
        "        loss.backward()\n",
        "        train_loss += loss.item()\n",
        "        optimizer.step()\n",
        "    print(f\"Epoch {epoch+1}/{epochs}, Loss: {train_loss / len(train_loader.dataset):.4f}\")"
      ],
      "metadata": {
        "colab": {
          "base_uri": "https://localhost:8080/"
        },
        "id": "VYmnKvN4KMAk",
        "outputId": "cbf34504-5378-43a0-d816-0661019bd3bf"
      },
      "execution_count": null,
      "outputs": [
        {
          "output_type": "stream",
          "name": "stdout",
          "text": [
            "Epoch 1/20, Loss: 319.0161\n",
            "Epoch 2/20, Loss: 273.6294\n",
            "Epoch 3/20, Loss: 269.8481\n",
            "Epoch 4/20, Loss: 267.7870\n",
            "Epoch 5/20, Loss: 266.5101\n",
            "Epoch 6/20, Loss: 265.3925\n",
            "Epoch 7/20, Loss: 264.6049\n",
            "Epoch 8/20, Loss: 263.9083\n",
            "Epoch 9/20, Loss: 263.3600\n",
            "Epoch 10/20, Loss: 262.6519\n",
            "Epoch 11/20, Loss: 262.2158\n",
            "Epoch 12/20, Loss: 261.8179\n",
            "Epoch 13/20, Loss: 261.2535\n",
            "Epoch 14/20, Loss: 260.9708\n",
            "Epoch 15/20, Loss: 260.7445\n",
            "Epoch 16/20, Loss: 260.3705\n",
            "Epoch 17/20, Loss: 260.2480\n",
            "Epoch 18/20, Loss: 259.7807\n",
            "Epoch 19/20, Loss: 259.7200\n",
            "Epoch 20/20, Loss: 259.4122\n"
          ]
        }
      ]
    },
    {
      "cell_type": "markdown",
      "source": [
        "# **Plot**"
      ],
      "metadata": {
        "id": "9yHSSP8EKTXT"
      }
    },
    {
      "cell_type": "code",
      "source": [
        "def plot_reconstruction(model, dataset, n=5):\n",
        "    model.eval()\n",
        "    with torch.no_grad():\n",
        "        x, _ = next(iter(DataLoader(dataset, batch_size=n)))\n",
        "        x = x.to(device)\n",
        "        recon, _, _ = model(x)\n",
        "        x = x.cpu().numpy()\n",
        "        recon = recon.cpu().numpy()\n",
        "\n",
        "        plt.figure(figsize=(2 * n, 4))\n",
        "        for i in range(n):\n",
        "            # Original\n",
        "            plt.subplot(2, n, i + 1)\n",
        "            plt.imshow(x[i][0], cmap='gray')\n",
        "            plt.title(\"Original\")\n",
        "            plt.axis('off')\n",
        "\n",
        "            # Reconstruído\n",
        "            plt.subplot(2, n, i + 1 + n)\n",
        "            plt.imshow(recon[i][0], cmap='gray')\n",
        "            plt.title(\"Reconstruído\")\n",
        "            plt.axis('off')\n",
        "        plt.suptitle(\"Reconstrução VAE\")\n",
        "        plt.show()\n",
        "\n",
        "plot_reconstruction(model, test_dataset, n=6)"
      ],
      "metadata": {
        "colab": {
          "base_uri": "https://localhost:8080/",
          "height": 381
        },
        "id": "3Saq7l76KWC3",
        "outputId": "4354332a-e889-4c26-ecc8-efe6d325fd85"
      },
      "execution_count": null,
      "outputs": [
        {
          "output_type": "display_data",
          "data": {
            "text/plain": [
              "<Figure size 1200x400 with 12 Axes>"
            ],
            "image/png": "[encoded data removed]"
          },
          "metadata": {}
        }
      ]
    }
  ]
}