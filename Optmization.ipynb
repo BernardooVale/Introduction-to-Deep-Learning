{
  "nbformat": 4,
  "nbformat_minor": 0,
  "metadata": {
    "colab": {
      "provenance": []
    },
    "kernelspec": {
      "display_name": "Python 3",
      "name": "python3"
    },
    "language_info": {
      "codemirror_mode": {
        "name": "ipython",
        "version": 3
      },
      "file_extension": ".py",
      "mimetype": "text/x-python",
      "name": "python",
      "nbconvert_exporter": "python",
      "pygments_lexer": "ipython3",
      "version": "3.6.8"
    }
  },
  "cells": [
    {
      "cell_type": "markdown",
      "metadata": {
        "id": "Ed03SC1Jm9Yy"
      },
      "source": [
        "\n",
        "\n",
        "[\n",
        "  \n",
        "  # Problemas\n",
        "\n",
        "\n",
        "\n",
        "\n",
        "\n",
        "\n",
        "\n",
        "\n",
        "  dadawdawdadawdaadwadadawdadwadwdwsssssss\n",
        "Como vimos acima, há muitos passos na criação e definição de uma nova rede neural.\n",
        "A grande parte desses ajustes dependem diretamente do problemas.\n",
        "\n",
        "Abaixo, listamos alguns problemas. Todos os problemas e datasets usados vem do [Center for Machine Learning and Intelligent Systems](http://archive.ics.uci.edu/ml/datasets.php).\n",
        "\n",
        "\n",
        "**Seu objetivo é determinar e implementar um modelo para cada problema.**\n",
        "\n",
        "Isso inclui:\n",
        "\n",
        "1. definir uma arquitetura.\n",
        "Por enquanto usando somente camadas [Lineares](https://pytorch.org/docs/stable/nn.html#linear), porém podemos variar as ativações, como [Sigmoid](https://pytorch.org/docs/stable/nn.html#sigmoid), [Tanh](https://pytorch.org/docs/stable/nn.html#tanh), [ReLU](https://pytorch.org/docs/stable/nn.html#relu), [LeakyReLU](https://pytorch.org/docs/stable/generated/torch.nn.LeakyReLU.html), [ELU](https://pytorch.org/docs/stable/generated/torch.nn.ELU.html), [SeLU](https://pytorch.org/docs/stable/generated/torch.nn.SELU.html), [PReLU](https://pytorch.org/docs/stable/generated/torch.nn.PReLU.html), [RReLU](https://pytorch.org/docs/stable/generated/torch.nn.RReLU.html)\n",
        "2. definir uma função de custo. Algums opções que vimos previamente incluem[L1](https://pytorch.org/docs/stable/nn.html#l1loss), [L2/MSE](https://pytorch.org/docs/stable/nn.html#mseloss), [Huber/SmoothL1](https://pytorch.org/docs/stable/nn.html#smoothl1loss), [*Cross-Entropy*](https://pytorch.org/docs/stable/nn.html#crossentropyloss), [Hinge](https://pytorch.org/docs/stable/nn.html#hingeembeddingloss)), e\n",
        "3. definir um algoritmo de otimização ([SGD](https://pytorch.org/docs/stable/optim.html#torch.optim.SGD), [RMSProp](https://pytorch.org/docs/stable/optim.html#torch.optim.RMSprop), [Adam](https://pytorch.org/docs/stable/optim.html#torch.optim.Adam))\n",
        "\n",
        "A leitura do dado assim como a função de treinamento já estão implementados para você."
      ]
    },
    {
      "cell_type": "markdown",
      "metadata": {
        "id": "0bzMRy-nFKua"
      },
      "source": [
        "# Preâmbulo"
      ]
    },
    {
      "cell_type": "code",
      "metadata": {
        "id": "XW-VATPAldgt"
      },
      "source": [
        "# imports basicos\n",
        "from sklearn import preprocessing\n",
        "from sklearn.model_selection import train_test_split\n",
        "\n",
        "import torch\n",
        "import torch.nn.functional as F\n",
        "import torchvision\n",
        "\n",
        "from torchvision import datasets, transforms\n",
        "from torch import optim, nn\n",
        "\n",
        "import os\n",
        "import sys\n",
        "import time\n",
        "import numpy as np\n",
        "\n",
        "from sklearn.preprocessing import StandardScaler"
      ],
      "execution_count": null,
      "outputs": []
    },
    {
      "cell_type": "code",
      "metadata": {
        "id": "fs5RRCEpFKug",
        "colab": {
          "base_uri": "https://localhost:8080/"
        },
        "outputId": "5381a06a-3736-425e-b953-f451975df373"
      },
      "source": [
        "import matplotlib.pyplot as plt\n",
        "plt.ion()"
      ],
      "execution_count": null,
      "outputs": [
        {
          "output_type": "execute_result",
          "data": {
            "text/plain": [
              "<contextlib.ExitStack at 0x7c619e231110>"
            ]
          },
          "metadata": {},
          "execution_count": 2
        }
      ]
    },
    {
      "cell_type": "code",
      "metadata": {
        "id": "jNofnRSOFKul",
        "colab": {
          "base_uri": "https://localhost:8080/"
        },
        "outputId": "bd49425b-3dce-4f09-d903-e2260a5d2575"
      },
      "source": [
        "# Test if GPU is avaliable, if not, use cpu instead\n",
        "device = torch.device('cuda' if torch.cuda.is_available() else 'cpu')\n",
        "n = torch.cuda.device_count()\n",
        "devices_ids = list(range(n))\n",
        "device"
      ],
      "execution_count": null,
      "outputs": [
        {
          "output_type": "execute_result",
          "data": {
            "text/plain": [
              "device(type='cpu')"
            ]
          },
          "metadata": {},
          "execution_count": 3
        }
      ]
    },
    {
      "cell_type": "markdown",
      "source": [
        "## Funções básicas\n",
        "\n",
        "Use a função `load_array ` declarada a seguir se voce ja tem os dados armazenados em um **array** (por exemplo um array do numpy, o `np.array`). Pode acontecer de que os nossos dados vêm simplesmente de um dataset que pode ser armazennado em um array, e portanto não é necessário fazer os outros passos mais complicados como carregar os dados do disco, etc; basta que possamos recuperar esses dados em *batches* aleatórios. O resultado dessa função é um `DataLoader` do Pytorch com os dados que fornecemos de entrada, e que permite que os acessamos da seguinte forma:\n",
        "\n",
        "```python\n",
        "data_loader = load_array(X, y, batch_size=32, is_train=True)\n",
        "for x_batch, y_batch in data_loader:\n",
        "    ### ... nossa iteração de treinamento aqui.\n",
        "```\n",
        "\n",
        "Essa função recebe como parâmetro os seguintes valores:\n",
        "\n",
        "- `features`: um array que contém as features de todas as instâncias do dataset. Por exemplo, no caso do MNIST seria um array de tamanho `(60000, 28, 28, 1)` com todas as imagens do dataset de treino.\n",
        "- `labels`: um array que contém os rótulos de cada instância de dados. No caso do MNIST, seria um array de tamanho `(60000,)` em que a posição `i` contém o rótulo do dígito da posição `i` do array `features`.\n",
        "- `batch_size`: tamanho do batch desejado\n",
        "- `is_train`: um booleano que indica se o dataset que estamos criando é o conjunto de treinamento ou não (conjunto de teste). A única mudança que isso causa no `Dataloader` resultante é que se for o conjunto de treinamento ele cria batches aleatórios.\n"
      ],
      "metadata": {
        "id": "vdHX3JaM_-7J"
      }
    },
    {
      "cell_type": "code",
      "source": [
        "def load_array(features, labels, batch_size, is_train=True):\n",
        "    \"\"\"Construct a Torch data loader\"\"\"\n",
        "\n",
        "    ## transform the input arrays in a tensor in case they are not\n",
        "    if type(features) != torch.tensor:\n",
        "        features = torch.tensor(features)\n",
        "    if type(labels) != torch.tensor:\n",
        "        labels = torch.tensor(labels)\n",
        "\n",
        "    ## create a Pytorch Dataset and DataLoader with the input data\n",
        "    dataset = torch.utils.data.TensorDataset(features, labels)\n",
        "    return torch.utils.data.DataLoader(dataset, batch_size, shuffle=is_train)"
      ],
      "metadata": {
        "id": "xAN7JCEPAEU4"
      },
      "execution_count": null,
      "outputs": []
    },
    {
      "cell_type": "markdown",
      "source": [
        "Use a função `evaluate_accuracy` para calcular a acurácia e a *loss-function* para a rede em um conjunto de dados. Note que essa função pode ser usada tanto para avaliar a rede no conjunto de teste (no caso que usamos o `DataLoader` de teste) quanto o conjunto de treinamento (se usamos o `DataLoader` de treinamento). Os parâmetros são:\n",
        "- `data_iter`: um `DataLoader` que contém os dados que queremos usar para avaliar a rede. Repare que esse parâmetro tipicamente é o ojeto que obtemos como saída da função `load_array` para montar o nosso `DataLoader`.\n",
        "- `net`: a rede que queremos avaliar\n",
        "- `loss`: a nossa *loss-function*. Pode ser um objeto de qualquer uma das funções de perda que mencionamos acima no começo do notebook.\n",
        "\n",
        "O resultado dessa função é uma tupla em que o primeiro valor é a acurácia e o segundo a função de custo calculados."
      ],
      "metadata": {
        "id": "0Qn0Sh7KBLE0"
      }
    },
    {
      "cell_type": "code",
      "source": [
        "# Função usada para calcular acurácia\n",
        "def evaluate_accuracy(data_iter, net, loss):\n",
        "    \"\"\"Evaluate accuracy of a model on the given data set.\"\"\"\n",
        "\n",
        "    ## valores \"acumuladores\", que guardam a soma de, respectivamente, quantas instâncias\n",
        "    ## prevemos corretamente, quantas instâncias percorremos no dataset, e o valor da loss; para\n",
        "    ## todos os batches\n",
        "    acc_sum, n, l = 0, 0, 0\n",
        "\n",
        "    ## muda a rede para o \"modo de teste\". O que isso faz é mudar o comportamento de alguns módulos da rede,\n",
        "    ## como os módulos de Dropout e BatchNorm, que funcionam de forma diferente quando estamos treinando ou\n",
        "    ## quando estamos avaliando (ou usando em produção) a rede\n",
        "    net.eval()\n",
        "\n",
        "    with torch.no_grad():\n",
        "      for X, y in data_iter:\n",
        "          X, y = X.to(device), y.to(device)\n",
        "          y_hat = net(X)\n",
        "          l += loss(y_hat, y.long())\n",
        "\n",
        "          ## aqui estamos calculando a quantidade de previsões que temos correta para o batch atual. o resultado\n",
        "          ## do argmax é a posição de `y_hat` que possui o maior valor. Consequentemente isso resulta na classe que\n",
        "          ## a rede deu o maior score.\n",
        "          acc_sum += (y_hat.argmax(axis=1) == y).sum().item()\n",
        "\n",
        "          ##\n",
        "          n += y.size(0)\n",
        "\n",
        "    return acc_sum / n, l.item() / len(data_iter)"
      ],
      "metadata": {
        "id": "SRGaUQsEFH0g"
      },
      "execution_count": null,
      "outputs": []
    },
    {
      "cell_type": "markdown",
      "source": [
        "A função `train_validate` é a função que implementa nossas iterações de treinamento padrão. Ela ja faz o trabalho de percorrer o dataset inteiro para cada época, e também de tempos em tempos avaliar a rede e mostar os resultados na tela. Para isso ela faz chamadas à função `evaluate_accuracy` declarada anteriormente (entre outras coisas). Essa função tem os segugintes parâmetros:\n",
        "- `net`: a rede que queremos treinar\n",
        "- `train_iter` e `test_iter`: nossos `DataLoaders` que criamos para acessar os dados. Esses DataLoaders podem ser criados com a função `load_array` declarada acima.\n",
        "- `trainer`: é o nosso otimizador. Podemos usar aqui qualquer um dos otimizadores que escolhermos da lista citada no começo desse notebook.\n",
        "- `loss`: a loss function que escolhemos para otimizar. Pode ser qualquer um das funções de custo citadas no começo do notebook.\n",
        "- `num_epochs`: a quantidade de épocas pelas quais queremos que o treinamento ocorra.\n",
        "- `type`: o tipo de tarefa que estamos lidando. Se for um problema de regressão, usamos `type='regression'`, e se for um problema de classificação, usamos `type='classification'`. Esse parâmetro é necessário para a função, por exemplo, saber quais métricas ele vai mostrar (acurácia, ou apenas o MSE, etc.)"
      ],
      "metadata": {
        "id": "mBmoehobG-TC"
      }
    },
    {
      "cell_type": "markdown",
      "source": [
        "Código antigo"
      ],
      "metadata": {
        "id": "adkYS_IH0FEx"
      }
    },
    {
      "cell_type": "code",
      "metadata": {
        "id": "8oSVf8u1Oi1m"
      },
      "source": [
        "# Função usada no treinamento e validação da rede\n",
        "def train_validate_antigo(net, train_iter, test_iter, trainer, loss, num_epochs, type='regression'):\n",
        "    print('training on', device)\n",
        "    for epoch in range(num_epochs):\n",
        "        train_l_sum, train_acc_sum, n, start = 0.0, 0.0, 0, time.time()\n",
        "        for X, y in train_iter:\n",
        "            X, y = X.to(device), y.to(device)\n",
        "            trainer.zero_grad()\n",
        "            y_hat = net(X)\n",
        "            if type == 'regression':\n",
        "              l = loss(y_hat, y.float())\n",
        "            else:\n",
        "              l = loss(y_hat, y.long())\n",
        "            l.backward()\n",
        "            trainer.step()\n",
        "            train_l_sum += l.item()\n",
        "            train_acc_sum += (y_hat.argmax(axis=1) == y).sum().item()\n",
        "            n += y.size(0)\n",
        "        test_acc, test_loss = evaluate_accuracy(test_iter, net, loss)\n",
        "        if type == 'regression':\n",
        "          print('epoch %d, train loss %.4f, test loss %.4f, time %.1f sec'\n",
        "                % (epoch + 1, train_l_sum / len(train_iter), test_loss, time.time() - start))\n",
        "        else:\n",
        "          print('epoch %d, train loss %.4f, train acc %.3f, test loss %.4f, '\n",
        "              'test acc %.3f, time %.1f sec'\n",
        "              % (epoch + 1, train_l_sum / len(train_iter), train_acc_sum / n, test_loss,\n",
        "                 test_acc, time.time() - start))\n"
      ],
      "execution_count": null,
      "outputs": []
    },
    {
      "cell_type": "markdown",
      "source": [
        "Código Novo\n"
      ],
      "metadata": {
        "id": "C0SSHQML0HZ5"
      }
    },
    {
      "cell_type": "code",
      "source": [
        "def train_validate(net, train_iter, test_iter, trainer, loss, num_epochs, type='regression'):\n",
        "    print('training on', device)\n",
        "    train_losses, test_losses = [], []\n",
        "\n",
        "    for epoch in range(num_epochs):\n",
        "        train_l_sum, train_acc_sum, n, start = 0.0, 0.0, 0, time.time()\n",
        "        for X, y in train_iter:\n",
        "            X, y = X.to(device), y.to(device)\n",
        "            trainer.zero_grad()\n",
        "            y_hat = net(X)\n",
        "            if type == 'regression':\n",
        "                l = loss(y_hat, y.float())\n",
        "            else:\n",
        "                l = loss(y_hat, y.long())\n",
        "            l.backward()\n",
        "            trainer.step()\n",
        "            train_l_sum += l.item()\n",
        "            train_acc_sum += (y_hat.argmax(axis=1) == y).sum().item()\n",
        "            n += y.size(0)\n",
        "\n",
        "        test_acc, test_loss = evaluate_accuracy(test_iter, net, loss)\n",
        "        avg_train_loss = train_l_sum / len(train_iter)\n",
        "        train_losses.append(avg_train_loss)\n",
        "        test_losses.append(test_loss)\n",
        "\n",
        "        if type == 'regression':\n",
        "            print('epoch %d, train loss %.4f, test loss %.4f, time %.1f sec'\n",
        "                  % (epoch + 1, avg_train_loss, test_loss, time.time() - start))\n",
        "        else:\n",
        "            print('epoch %d, train loss %.4f, train acc %.3f, test loss %.4f, '\n",
        "                  'test acc %.3f, time %.1f sec'\n",
        "                  % (epoch + 1, avg_train_loss, train_acc_sum / n, test_loss,\n",
        "                     test_acc, time.time() - start))\n",
        "\n",
        "    # Plotando gráfico de loss\n",
        "    plt.plot(range(1, num_epochs + 1), train_losses, label='Train Loss')\n",
        "    plt.plot(range(1, num_epochs + 1), test_losses, label='Test Loss')\n",
        "    plt.xlabel('Epoch')\n",
        "    plt.ylabel('Loss')\n",
        "    plt.title('Loss por Época')\n",
        "    plt.legend()\n",
        "    plt.grid(True)\n",
        "    plt.show()"
      ],
      "metadata": {
        "id": "vrvszbpy0Jkc"
      },
      "execution_count": null,
      "outputs": []
    },
    {
      "cell_type": "markdown",
      "source": [
        "Use a função a seguir para inicializar os pesos da rede. Ela recebe como parâmetro um módulo da rede neural, e se for uma camada linear ele inicializa os pesos e os bias dessa camada. Embora possa parecer complicado de precisar chamar essa função para todas as camadas lineares da nossa rede, o módulos do Pytorch (que incluem tanto as redes criadas com o `nn.Sequential` ou com `nn.Module`) possuem a função `net.apply()` que recebe como parâmetro uma função e aplica ela a todos os submódulos da rede. Portanto, depois de ter criado a nossa rede, podemos chamar:\n",
        "\n",
        "```python\n",
        "net.apply(weights_init)\n",
        "```\n",
        "que automaticamente todas as camadas `nn.Linear` serão inicializadas. Caso queira saber mais sobre o `.apply()`, veja o seguinte [link](https://pytorch.org/docs/stable/generated/torch.nn.Module.html#torch.nn.Module.apply)."
      ],
      "metadata": {
        "id": "ExWzvYS9JqTC"
      }
    },
    {
      "cell_type": "code",
      "source": [
        "# Função para inicializar pesos da rede\n",
        "def weights_init(m):\n",
        "    if type(m) == nn.Linear:\n",
        "        m.weight.data.normal_(0.0, 0.01) # valores iniciais são uma normal\n",
        "        m.bias.data.fill_(0)"
      ],
      "metadata": {
        "id": "mkeIXH1PJqpA"
      },
      "execution_count": null,
      "outputs": []
    },
    {
      "cell_type": "markdown",
      "metadata": {
        "id": "Y0m-qic-0Wnl"
      },
      "source": [
        "# Problema 1\n",
        "\n",
        "Neste problema, você receberá 14 *features* coletadas de pacientes e tentará predizer se eles tem algum sinal de doença cardíaca. Mais sobre esse dataset aqui: https://archive.ics.uci.edu/ml/datasets/Heart+Disease"
      ]
    },
    {
      "cell_type": "code",
      "source": [
        "## aqui fazemos o download do dataset usando o `!wget`. Se estamos rodando em um servidor linux (como é o caso do Colab),\n",
        "## podemos usar comandos do linux precedidos pelo \"!\". Por exemplo podemos fazer !ls para listar os arquivos da instância do colab.\n",
        "!wget https://archive.ics.uci.edu/ml/machine-learning-databases/heart-disease/processed.cleveland.data\n",
        "\n",
        "## aqui fazemos um tratamento inicial dos dados. \"np.genfromtxt\" lê os dados de um arquivo .txt e transforma em\n",
        "## um array. Pode ser interessante abrir o arquivo para verificar como os dados chegaram. Se estiver no colab, voce\n",
        "## pode verificar o arquivo \"processed.cleveland.data\" clicando na pastinha do canto esquerdo da página. a função\n",
        "## \"np.nan_to_num\" trata valores NaN e infinitos no dataset.\n",
        "data = np.genfromtxt('processed.cleveland.data', delimiter=',', dtype=np.float32)\n",
        "data = np.nan_to_num(data)"
      ],
      "metadata": {
        "colab": {
          "base_uri": "https://localhost:8080/"
        },
        "id": "w2V7qc5FNZpC",
        "outputId": "dd75edad-31a6-4a7d-ac10-5c2e76583c23"
      },
      "execution_count": null,
      "outputs": [
        {
          "output_type": "stream",
          "name": "stdout",
          "text": [
            "--2025-05-19 12:56:22--  https://archive.ics.uci.edu/ml/machine-learning-databases/heart-disease/processed.cleveland.data\n",
            "Resolving archive.ics.uci.edu (archive.ics.uci.edu)... 128.195.10.252\n",
            "Connecting to archive.ics.uci.edu (archive.ics.uci.edu)|128.195.10.252|:443... connected.\n",
            "HTTP request sent, awaiting response... 200 OK\n",
            "Length: unspecified\n",
            "Saving to: ‘processed.cleveland.data’\n",
            "\n",
            "processed.cleveland     [ <=>                ]  18.03K  --.-KB/s    in 0.1s    \n",
            "\n",
            "2025-05-19 12:56:23 (140 KB/s) - ‘processed.cleveland.data’ saved [18461]\n",
            "\n"
          ]
        }
      ]
    },
    {
      "cell_type": "code",
      "source": [
        "## aqui separamos os dados entre features (X) e rótulo (y), e depois separamos em um conjunto de treinamento e teste\n",
        "print(data.shape, data[0, :])\n",
        "X, y = data[:, :-1], data[:, -1]\n",
        "print(X.shape, X[0, :])\n",
        "print(y.shape, y[0])\n",
        "train_features, test_features, train_labels, test_labels = train_test_split(X, y, test_size=0.20, random_state=42)"
      ],
      "metadata": {
        "colab": {
          "base_uri": "https://localhost:8080/"
        },
        "id": "pdIA4XYoNa_2",
        "outputId": "7acbfeb9-0b04-4203-da7d-7c5abd568720"
      },
      "execution_count": null,
      "outputs": [
        {
          "output_type": "stream",
          "name": "stdout",
          "text": [
            "(303, 14) [ 63.    1.    1.  145.  233.    1.    2.  150.    0.    2.3   3.    0.\n",
            "   6.    0. ]\n",
            "(303, 13) [ 63.    1.    1.  145.  233.    1.    2.  150.    0.    2.3   3.    0.\n",
            "   6. ]\n",
            "(303,) 0.0\n"
          ]
        }
      ]
    },
    {
      "cell_type": "code",
      "metadata": {
        "id": "AUYOPZYH0Ztc"
      },
      "source": [
        "## aqui criamos nossos DataLoaders para conseguirmos iterar nos dados\n",
        "batch_size = 64\n",
        "train_iter = load_array(train_features, train_labels, batch_size)\n",
        "test_iter = load_array(test_features, test_labels, batch_size, False)"
      ],
      "execution_count": null,
      "outputs": []
    },
    {
      "cell_type": "markdown",
      "source": [
        "Regularização"
      ],
      "metadata": {
        "id": "PsmHuDXtGGWU"
      }
    },
    {
      "cell_type": "code",
      "source": [
        "scaler = StandardScaler()\n",
        "\n",
        "train_features = scaler.fit_transform(train_features)\n",
        "test_features = scaler.transform(test_features)\n",
        "\n",
        "train_iter = load_array(train_features, train_labels, batch_size)\n",
        "test_iter = load_array(test_features, test_labels, batch_size, False)"
      ],
      "metadata": {
        "id": "HJXw_tJCGNqo"
      },
      "execution_count": null,
      "outputs": []
    },
    {
      "cell_type": "code",
      "metadata": {
        "id": "178XNdRUpiQW",
        "colab": {
          "base_uri": "https://localhost:8080/",
          "height": 1000
        },
        "outputId": "92419763-08c7-426e-e55c-510b26682565"
      },
      "source": [
        "# IMPLEMENTE AQUI\n",
        "\n",
        "lr = 0.0001\n",
        "epocas = 500\n",
        "dropout = 0.5\n",
        "weight_dc = 0.01\n",
        "\n",
        "modelo = nn.Sequential(\n",
        "    nn.Linear(13, 64),\n",
        "    nn.BatchNorm1d(64),\n",
        "    nn.ReLU(),\n",
        "    nn.Dropout(dropout),\n",
        "    nn.Linear(64, 32),\n",
        "    nn.BatchNorm1d(32),\n",
        "    nn.ReLU(),\n",
        "    nn.Dropout(dropout),\n",
        "    nn.Linear(32, 16),\n",
        "    nn.BatchNorm1d(16),\n",
        "    nn.ReLU(),\n",
        "    nn.Dropout(dropout),\n",
        "    nn.Linear(16, 5),\n",
        ").to(device)\n",
        "\n",
        "modelo.apply(weights_init)\n",
        "\n",
        "loss = nn.CrossEntropyLoss() # Softmax Inclusa\n",
        "opt = torch.optim.Adam(modelo.parameters(), lr=lr, weight_decay=weight_dc)\n",
        "\n",
        "train_validate(modelo, train_iter, test_iter, opt, loss, num_epochs=epocas, type='classification')"
      ],
      "execution_count": null,
      "outputs": [
        {
          "output_type": "stream",
          "name": "stdout",
          "text": [
            "training on cpu\n",
            "epoch 1, train loss 1.6061, train acc 0.215, test loss 1.6093, test acc 0.197, time 0.1 sec\n",
            "epoch 2, train loss 1.6091, train acc 0.463, test loss 1.6091, test acc 0.475, time 0.0 sec\n",
            "epoch 3, train loss 1.6089, train acc 0.558, test loss 1.6089, test acc 0.475, time 0.0 sec\n",
            "epoch 4, train loss 1.6086, train acc 0.558, test loss 1.6086, test acc 0.475, time 0.0 sec\n",
            "epoch 5, train loss 1.6083, train acc 0.558, test loss 1.6084, test acc 0.475, time 0.0 sec\n",
            "epoch 6, train loss 1.6080, train acc 0.558, test loss 1.6082, test acc 0.475, time 0.0 sec\n",
            "epoch 7, train loss 1.6077, train acc 0.558, test loss 1.6080, test acc 0.475, time 0.0 sec\n",
            "epoch 8, train loss 1.6074, train acc 0.558, test loss 1.6077, test acc 0.475, time 0.0 sec\n",
            "epoch 9, train loss 1.6072, train acc 0.558, test loss 1.6075, test acc 0.475, time 0.0 sec\n",
            "epoch 10, train loss 1.6069, train acc 0.558, test loss 1.6073, test acc 0.475, time 0.0 sec\n",
            "epoch 11, train loss 1.6066, train acc 0.558, test loss 1.6071, test acc 0.475, time 0.0 sec\n",
            "epoch 12, train loss 1.6063, train acc 0.558, test loss 1.6069, test acc 0.475, time 0.0 sec\n",
            "epoch 13, train loss 1.6060, train acc 0.558, test loss 1.6066, test acc 0.475, time 0.0 sec\n",
            "epoch 14, train loss 1.6058, train acc 0.558, test loss 1.6064, test acc 0.475, time 0.0 sec\n",
            "epoch 15, train loss 1.6055, train acc 0.558, test loss 1.6062, test acc 0.475, time 0.0 sec\n",
            "epoch 16, train loss 1.6052, train acc 0.558, test loss 1.6060, test acc 0.475, time 0.0 sec\n",
            "epoch 17, train loss 1.6049, train acc 0.558, test loss 1.6058, test acc 0.475, time 0.0 sec\n",
            "epoch 18, train loss 1.6046, train acc 0.558, test loss 1.6055, test acc 0.475, time 0.0 sec\n",
            "epoch 19, train loss 1.6043, train acc 0.558, test loss 1.6053, test acc 0.475, time 0.0 sec\n",
            "epoch 20, train loss 1.6041, train acc 0.558, test loss 1.6051, test acc 0.475, time 0.0 sec\n",
            "epoch 21, train loss 1.6038, train acc 0.558, test loss 1.6049, test acc 0.475, time 0.0 sec\n",
            "epoch 22, train loss 1.6035, train acc 0.558, test loss 1.6047, test acc 0.475, time 0.0 sec\n",
            "epoch 23, train loss 1.6032, train acc 0.558, test loss 1.6044, test acc 0.475, time 0.0 sec\n",
            "epoch 24, train loss 1.6028, train acc 0.558, test loss 1.6042, test acc 0.475, time 0.0 sec\n",
            "epoch 25, train loss 1.6026, train acc 0.558, test loss 1.6040, test acc 0.475, time 0.0 sec\n",
            "epoch 26, train loss 1.6023, train acc 0.558, test loss 1.6038, test acc 0.475, time 0.0 sec\n",
            "epoch 27, train loss 1.6021, train acc 0.558, test loss 1.6036, test acc 0.475, time 0.0 sec\n",
            "epoch 28, train loss 1.6018, train acc 0.558, test loss 1.6033, test acc 0.475, time 0.0 sec\n",
            "epoch 29, train loss 1.6014, train acc 0.558, test loss 1.6031, test acc 0.475, time 0.0 sec\n",
            "epoch 30, train loss 1.6012, train acc 0.558, test loss 1.6029, test acc 0.475, time 0.0 sec\n",
            "epoch 31, train loss 1.6009, train acc 0.558, test loss 1.6027, test acc 0.475, time 0.0 sec\n",
            "epoch 32, train loss 1.6006, train acc 0.558, test loss 1.6024, test acc 0.475, time 0.0 sec\n",
            "epoch 33, train loss 1.6004, train acc 0.558, test loss 1.6022, test acc 0.475, time 0.0 sec\n",
            "epoch 34, train loss 1.6001, train acc 0.558, test loss 1.6020, test acc 0.475, time 0.0 sec\n",
            "epoch 35, train loss 1.5999, train acc 0.558, test loss 1.6018, test acc 0.475, time 0.0 sec\n",
            "epoch 36, train loss 1.5994, train acc 0.558, test loss 1.6016, test acc 0.475, time 0.0 sec\n",
            "epoch 37, train loss 1.5992, train acc 0.558, test loss 1.6013, test acc 0.475, time 0.0 sec\n",
            "epoch 38, train loss 1.5989, train acc 0.558, test loss 1.6011, test acc 0.475, time 0.0 sec\n",
            "epoch 39, train loss 1.5988, train acc 0.558, test loss 1.6009, test acc 0.475, time 0.0 sec\n",
            "epoch 40, train loss 1.5985, train acc 0.558, test loss 1.6006, test acc 0.475, time 0.0 sec\n",
            "epoch 41, train loss 1.5980, train acc 0.558, test loss 1.6004, test acc 0.475, time 0.0 sec\n",
            "epoch 42, train loss 1.5979, train acc 0.558, test loss 1.6002, test acc 0.475, time 0.0 sec\n",
            "epoch 43, train loss 1.5974, train acc 0.558, test loss 1.6000, test acc 0.475, time 0.0 sec\n",
            "epoch 44, train loss 1.5972, train acc 0.558, test loss 1.5997, test acc 0.475, time 0.0 sec\n",
            "epoch 45, train loss 1.5968, train acc 0.558, test loss 1.5995, test acc 0.475, time 0.0 sec\n",
            "epoch 46, train loss 1.5966, train acc 0.558, test loss 1.5993, test acc 0.475, time 0.0 sec\n",
            "epoch 47, train loss 1.5963, train acc 0.558, test loss 1.5990, test acc 0.475, time 0.0 sec\n",
            "epoch 48, train loss 1.5959, train acc 0.558, test loss 1.5988, test acc 0.475, time 0.0 sec\n",
            "epoch 49, train loss 1.5956, train acc 0.558, test loss 1.5986, test acc 0.475, time 0.0 sec\n",
            "epoch 50, train loss 1.5952, train acc 0.558, test loss 1.5983, test acc 0.475, time 0.0 sec\n",
            "epoch 51, train loss 1.5948, train acc 0.558, test loss 1.5981, test acc 0.475, time 0.0 sec\n",
            "epoch 52, train loss 1.5946, train acc 0.558, test loss 1.5978, test acc 0.475, time 0.0 sec\n",
            "epoch 53, train loss 1.5943, train acc 0.558, test loss 1.5976, test acc 0.475, time 0.0 sec\n",
            "epoch 54, train loss 1.5938, train acc 0.558, test loss 1.5973, test acc 0.475, time 0.0 sec\n",
            "epoch 55, train loss 1.5940, train acc 0.558, test loss 1.5971, test acc 0.475, time 0.0 sec\n",
            "epoch 56, train loss 1.5934, train acc 0.558, test loss 1.5968, test acc 0.475, time 0.0 sec\n",
            "epoch 57, train loss 1.5930, train acc 0.558, test loss 1.5966, test acc 0.475, time 0.0 sec\n",
            "epoch 58, train loss 1.5926, train acc 0.558, test loss 1.5963, test acc 0.475, time 0.0 sec\n",
            "epoch 59, train loss 1.5923, train acc 0.558, test loss 1.5961, test acc 0.475, time 0.0 sec\n",
            "epoch 60, train loss 1.5922, train acc 0.558, test loss 1.5958, test acc 0.475, time 0.0 sec\n",
            "epoch 61, train loss 1.5917, train acc 0.558, test loss 1.5956, test acc 0.475, time 0.0 sec\n",
            "epoch 62, train loss 1.5917, train acc 0.558, test loss 1.5953, test acc 0.475, time 0.0 sec\n",
            "epoch 63, train loss 1.5911, train acc 0.558, test loss 1.5951, test acc 0.475, time 0.0 sec\n",
            "epoch 64, train loss 1.5907, train acc 0.558, test loss 1.5948, test acc 0.475, time 0.0 sec\n",
            "epoch 65, train loss 1.5905, train acc 0.558, test loss 1.5945, test acc 0.475, time 0.0 sec\n",
            "epoch 66, train loss 1.5900, train acc 0.558, test loss 1.5943, test acc 0.475, time 0.0 sec\n",
            "epoch 67, train loss 1.5896, train acc 0.558, test loss 1.5940, test acc 0.475, time 0.0 sec\n",
            "epoch 68, train loss 1.5894, train acc 0.558, test loss 1.5937, test acc 0.475, time 0.0 sec\n",
            "epoch 69, train loss 1.5893, train acc 0.558, test loss 1.5934, test acc 0.475, time 0.0 sec\n",
            "epoch 70, train loss 1.5887, train acc 0.558, test loss 1.5932, test acc 0.475, time 0.0 sec\n",
            "epoch 71, train loss 1.5881, train acc 0.558, test loss 1.5929, test acc 0.475, time 0.0 sec\n",
            "epoch 72, train loss 1.5881, train acc 0.558, test loss 1.5926, test acc 0.475, time 0.0 sec\n",
            "epoch 73, train loss 1.5882, train acc 0.558, test loss 1.5923, test acc 0.475, time 0.0 sec\n",
            "epoch 74, train loss 1.5869, train acc 0.558, test loss 1.5921, test acc 0.475, time 0.0 sec\n",
            "epoch 75, train loss 1.5867, train acc 0.558, test loss 1.5918, test acc 0.475, time 0.0 sec\n",
            "epoch 76, train loss 1.5863, train acc 0.558, test loss 1.5915, test acc 0.475, time 0.0 sec\n",
            "epoch 77, train loss 1.5861, train acc 0.558, test loss 1.5912, test acc 0.475, time 0.0 sec\n",
            "epoch 78, train loss 1.5859, train acc 0.558, test loss 1.5909, test acc 0.475, time 0.0 sec\n",
            "epoch 79, train loss 1.5856, train acc 0.558, test loss 1.5906, test acc 0.475, time 0.0 sec\n",
            "epoch 80, train loss 1.5848, train acc 0.558, test loss 1.5903, test acc 0.475, time 0.0 sec\n",
            "epoch 81, train loss 1.5849, train acc 0.558, test loss 1.5900, test acc 0.475, time 0.0 sec\n",
            "epoch 82, train loss 1.5839, train acc 0.558, test loss 1.5897, test acc 0.475, time 0.0 sec\n",
            "epoch 83, train loss 1.5839, train acc 0.558, test loss 1.5894, test acc 0.475, time 0.0 sec\n",
            "epoch 84, train loss 1.5834, train acc 0.558, test loss 1.5891, test acc 0.475, time 0.0 sec\n",
            "epoch 85, train loss 1.5834, train acc 0.558, test loss 1.5888, test acc 0.475, time 0.0 sec\n",
            "epoch 86, train loss 1.5824, train acc 0.558, test loss 1.5884, test acc 0.475, time 0.0 sec\n",
            "epoch 87, train loss 1.5820, train acc 0.558, test loss 1.5881, test acc 0.475, time 0.0 sec\n",
            "epoch 88, train loss 1.5820, train acc 0.558, test loss 1.5878, test acc 0.475, time 0.0 sec\n",
            "epoch 89, train loss 1.5815, train acc 0.558, test loss 1.5875, test acc 0.475, time 0.0 sec\n",
            "epoch 90, train loss 1.5811, train acc 0.558, test loss 1.5871, test acc 0.475, time 0.0 sec\n",
            "epoch 91, train loss 1.5806, train acc 0.558, test loss 1.5868, test acc 0.475, time 0.0 sec\n",
            "epoch 92, train loss 1.5803, train acc 0.558, test loss 1.5865, test acc 0.475, time 0.0 sec\n",
            "epoch 93, train loss 1.5795, train acc 0.558, test loss 1.5861, test acc 0.475, time 0.0 sec\n",
            "epoch 94, train loss 1.5789, train acc 0.558, test loss 1.5858, test acc 0.475, time 0.0 sec\n",
            "epoch 95, train loss 1.5783, train acc 0.558, test loss 1.5854, test acc 0.475, time 0.0 sec\n",
            "epoch 96, train loss 1.5783, train acc 0.558, test loss 1.5851, test acc 0.475, time 0.0 sec\n",
            "epoch 97, train loss 1.5776, train acc 0.558, test loss 1.5847, test acc 0.475, time 0.0 sec\n",
            "epoch 98, train loss 1.5768, train acc 0.558, test loss 1.5844, test acc 0.475, time 0.0 sec\n",
            "epoch 99, train loss 1.5769, train acc 0.558, test loss 1.5840, test acc 0.475, time 0.0 sec\n",
            "epoch 100, train loss 1.5763, train acc 0.558, test loss 1.5836, test acc 0.475, time 0.0 sec\n",
            "epoch 101, train loss 1.5755, train acc 0.558, test loss 1.5832, test acc 0.475, time 0.0 sec\n",
            "epoch 102, train loss 1.5754, train acc 0.558, test loss 1.5829, test acc 0.475, time 0.0 sec\n",
            "epoch 103, train loss 1.5748, train acc 0.558, test loss 1.5825, test acc 0.475, time 0.0 sec\n",
            "epoch 104, train loss 1.5737, train acc 0.558, test loss 1.5821, test acc 0.475, time 0.0 sec\n",
            "epoch 105, train loss 1.5740, train acc 0.558, test loss 1.5817, test acc 0.475, time 0.0 sec\n",
            "epoch 106, train loss 1.5731, train acc 0.558, test loss 1.5813, test acc 0.475, time 0.0 sec\n",
            "epoch 107, train loss 1.5726, train acc 0.558, test loss 1.5809, test acc 0.475, time 0.0 sec\n",
            "epoch 108, train loss 1.5721, train acc 0.558, test loss 1.5804, test acc 0.475, time 0.0 sec\n",
            "epoch 109, train loss 1.5719, train acc 0.558, test loss 1.5800, test acc 0.475, time 0.0 sec\n",
            "epoch 110, train loss 1.5710, train acc 0.558, test loss 1.5796, test acc 0.475, time 0.0 sec\n",
            "epoch 111, train loss 1.5702, train acc 0.558, test loss 1.5792, test acc 0.475, time 0.0 sec\n",
            "epoch 112, train loss 1.5698, train acc 0.558, test loss 1.5787, test acc 0.475, time 0.0 sec\n",
            "epoch 113, train loss 1.5694, train acc 0.558, test loss 1.5783, test acc 0.475, time 0.0 sec\n",
            "epoch 114, train loss 1.5687, train acc 0.558, test loss 1.5778, test acc 0.475, time 0.0 sec\n",
            "epoch 115, train loss 1.5678, train acc 0.558, test loss 1.5774, test acc 0.475, time 0.0 sec\n",
            "epoch 116, train loss 1.5680, train acc 0.558, test loss 1.5769, test acc 0.475, time 0.0 sec\n",
            "epoch 117, train loss 1.5665, train acc 0.558, test loss 1.5764, test acc 0.475, time 0.0 sec\n",
            "epoch 118, train loss 1.5665, train acc 0.558, test loss 1.5759, test acc 0.475, time 0.0 sec\n",
            "epoch 119, train loss 1.5658, train acc 0.558, test loss 1.5755, test acc 0.475, time 0.0 sec\n",
            "epoch 120, train loss 1.5652, train acc 0.558, test loss 1.5750, test acc 0.475, time 0.0 sec\n",
            "epoch 121, train loss 1.5637, train acc 0.558, test loss 1.5745, test acc 0.475, time 0.0 sec\n",
            "epoch 122, train loss 1.5638, train acc 0.558, test loss 1.5740, test acc 0.475, time 0.0 sec\n",
            "epoch 123, train loss 1.5631, train acc 0.558, test loss 1.5734, test acc 0.475, time 0.0 sec\n",
            "epoch 124, train loss 1.5635, train acc 0.558, test loss 1.5729, test acc 0.475, time 0.0 sec\n",
            "epoch 125, train loss 1.5618, train acc 0.558, test loss 1.5724, test acc 0.475, time 0.0 sec\n",
            "epoch 126, train loss 1.5615, train acc 0.558, test loss 1.5718, test acc 0.475, time 0.0 sec\n",
            "epoch 127, train loss 1.5608, train acc 0.558, test loss 1.5713, test acc 0.475, time 0.0 sec\n",
            "epoch 128, train loss 1.5597, train acc 0.558, test loss 1.5707, test acc 0.475, time 0.0 sec\n",
            "epoch 129, train loss 1.5587, train acc 0.558, test loss 1.5702, test acc 0.475, time 0.0 sec\n",
            "epoch 130, train loss 1.5582, train acc 0.558, test loss 1.5696, test acc 0.475, time 0.0 sec\n",
            "epoch 131, train loss 1.5580, train acc 0.558, test loss 1.5690, test acc 0.475, time 0.0 sec\n",
            "epoch 132, train loss 1.5565, train acc 0.558, test loss 1.5684, test acc 0.475, time 0.0 sec\n",
            "epoch 133, train loss 1.5557, train acc 0.558, test loss 1.5678, test acc 0.475, time 0.0 sec\n",
            "epoch 134, train loss 1.5558, train acc 0.558, test loss 1.5672, test acc 0.475, time 0.0 sec\n",
            "epoch 135, train loss 1.5549, train acc 0.558, test loss 1.5666, test acc 0.475, time 0.0 sec\n",
            "epoch 136, train loss 1.5533, train acc 0.558, test loss 1.5660, test acc 0.475, time 0.0 sec\n",
            "epoch 137, train loss 1.5528, train acc 0.558, test loss 1.5653, test acc 0.475, time 0.0 sec\n",
            "epoch 138, train loss 1.5520, train acc 0.558, test loss 1.5647, test acc 0.475, time 0.0 sec\n",
            "epoch 139, train loss 1.5511, train acc 0.558, test loss 1.5640, test acc 0.475, time 0.0 sec\n",
            "epoch 140, train loss 1.5500, train acc 0.558, test loss 1.5633, test acc 0.475, time 0.0 sec\n",
            "epoch 141, train loss 1.5496, train acc 0.558, test loss 1.5626, test acc 0.475, time 0.0 sec\n",
            "epoch 142, train loss 1.5479, train acc 0.558, test loss 1.5619, test acc 0.475, time 0.0 sec\n",
            "epoch 143, train loss 1.5477, train acc 0.558, test loss 1.5612, test acc 0.475, time 0.0 sec\n",
            "epoch 144, train loss 1.5465, train acc 0.558, test loss 1.5605, test acc 0.475, time 0.0 sec\n",
            "epoch 145, train loss 1.5457, train acc 0.558, test loss 1.5598, test acc 0.475, time 0.0 sec\n",
            "epoch 146, train loss 1.5433, train acc 0.558, test loss 1.5590, test acc 0.475, time 0.0 sec\n",
            "epoch 147, train loss 1.5445, train acc 0.558, test loss 1.5582, test acc 0.475, time 0.0 sec\n",
            "epoch 148, train loss 1.5434, train acc 0.558, test loss 1.5575, test acc 0.475, time 0.0 sec\n",
            "epoch 149, train loss 1.5410, train acc 0.558, test loss 1.5567, test acc 0.475, time 0.0 sec\n",
            "epoch 150, train loss 1.5406, train acc 0.558, test loss 1.5558, test acc 0.475, time 0.0 sec\n",
            "epoch 151, train loss 1.5392, train acc 0.558, test loss 1.5550, test acc 0.475, time 0.0 sec\n",
            "epoch 152, train loss 1.5383, train acc 0.558, test loss 1.5542, test acc 0.475, time 0.0 sec\n",
            "epoch 153, train loss 1.5363, train acc 0.558, test loss 1.5533, test acc 0.475, time 0.0 sec\n",
            "epoch 154, train loss 1.5365, train acc 0.558, test loss 1.5524, test acc 0.475, time 0.0 sec\n",
            "epoch 155, train loss 1.5339, train acc 0.558, test loss 1.5515, test acc 0.475, time 0.0 sec\n",
            "epoch 156, train loss 1.5342, train acc 0.558, test loss 1.5505, test acc 0.475, time 0.0 sec\n",
            "epoch 157, train loss 1.5338, train acc 0.558, test loss 1.5496, test acc 0.475, time 0.0 sec\n",
            "epoch 158, train loss 1.5315, train acc 0.558, test loss 1.5486, test acc 0.475, time 0.0 sec\n",
            "epoch 159, train loss 1.5312, train acc 0.558, test loss 1.5475, test acc 0.475, time 0.0 sec\n",
            "epoch 160, train loss 1.5271, train acc 0.558, test loss 1.5465, test acc 0.475, time 0.0 sec\n",
            "epoch 161, train loss 1.5254, train acc 0.558, test loss 1.5454, test acc 0.475, time 0.0 sec\n",
            "epoch 162, train loss 1.5254, train acc 0.558, test loss 1.5442, test acc 0.475, time 0.0 sec\n",
            "epoch 163, train loss 1.5230, train acc 0.558, test loss 1.5430, test acc 0.475, time 0.0 sec\n",
            "epoch 164, train loss 1.5225, train acc 0.558, test loss 1.5418, test acc 0.475, time 0.0 sec\n",
            "epoch 165, train loss 1.5190, train acc 0.558, test loss 1.5405, test acc 0.475, time 0.0 sec\n",
            "epoch 166, train loss 1.5192, train acc 0.558, test loss 1.5391, test acc 0.475, time 0.0 sec\n",
            "epoch 167, train loss 1.5184, train acc 0.558, test loss 1.5377, test acc 0.475, time 0.0 sec\n",
            "epoch 168, train loss 1.5157, train acc 0.558, test loss 1.5362, test acc 0.475, time 0.0 sec\n",
            "epoch 169, train loss 1.5143, train acc 0.558, test loss 1.5346, test acc 0.475, time 0.0 sec\n",
            "epoch 170, train loss 1.5123, train acc 0.558, test loss 1.5329, test acc 0.475, time 0.0 sec\n",
            "epoch 171, train loss 1.5089, train acc 0.558, test loss 1.5312, test acc 0.475, time 0.0 sec\n",
            "epoch 172, train loss 1.5075, train acc 0.558, test loss 1.5293, test acc 0.475, time 0.0 sec\n",
            "epoch 173, train loss 1.5053, train acc 0.558, test loss 1.5273, test acc 0.475, time 0.0 sec\n",
            "epoch 174, train loss 1.5033, train acc 0.558, test loss 1.5252, test acc 0.475, time 0.0 sec\n",
            "epoch 175, train loss 1.4969, train acc 0.558, test loss 1.5230, test acc 0.475, time 0.0 sec\n",
            "epoch 176, train loss 1.4957, train acc 0.558, test loss 1.5205, test acc 0.475, time 0.0 sec\n",
            "epoch 177, train loss 1.4912, train acc 0.558, test loss 1.5180, test acc 0.475, time 0.0 sec\n",
            "epoch 178, train loss 1.4905, train acc 0.558, test loss 1.5151, test acc 0.475, time 0.0 sec\n",
            "epoch 179, train loss 1.4868, train acc 0.558, test loss 1.5122, test acc 0.475, time 0.0 sec\n",
            "epoch 180, train loss 1.4807, train acc 0.558, test loss 1.5089, test acc 0.475, time 0.0 sec\n",
            "epoch 181, train loss 1.4794, train acc 0.558, test loss 1.5055, test acc 0.475, time 0.0 sec\n",
            "epoch 182, train loss 1.4735, train acc 0.558, test loss 1.5018, test acc 0.475, time 0.0 sec\n",
            "epoch 183, train loss 1.4681, train acc 0.558, test loss 1.4979, test acc 0.475, time 0.0 sec\n",
            "epoch 184, train loss 1.4658, train acc 0.558, test loss 1.4936, test acc 0.475, time 0.0 sec\n",
            "epoch 185, train loss 1.4597, train acc 0.558, test loss 1.4890, test acc 0.475, time 0.0 sec\n",
            "epoch 186, train loss 1.4531, train acc 0.558, test loss 1.4841, test acc 0.475, time 0.0 sec\n",
            "epoch 187, train loss 1.4471, train acc 0.558, test loss 1.4788, test acc 0.475, time 0.0 sec\n",
            "epoch 188, train loss 1.4375, train acc 0.558, test loss 1.4732, test acc 0.475, time 0.0 sec\n",
            "epoch 189, train loss 1.4326, train acc 0.558, test loss 1.4671, test acc 0.475, time 0.0 sec\n",
            "epoch 190, train loss 1.4262, train acc 0.558, test loss 1.4606, test acc 0.475, time 0.0 sec\n",
            "epoch 191, train loss 1.4148, train acc 0.558, test loss 1.4536, test acc 0.475, time 0.0 sec\n",
            "epoch 192, train loss 1.4101, train acc 0.558, test loss 1.4461, test acc 0.475, time 0.0 sec\n",
            "epoch 193, train loss 1.3976, train acc 0.558, test loss 1.4381, test acc 0.475, time 0.0 sec\n",
            "epoch 194, train loss 1.3852, train acc 0.558, test loss 1.4297, test acc 0.475, time 0.0 sec\n",
            "epoch 195, train loss 1.3774, train acc 0.558, test loss 1.4206, test acc 0.475, time 0.0 sec\n",
            "epoch 196, train loss 1.3700, train acc 0.558, test loss 1.4110, test acc 0.475, time 0.0 sec\n",
            "epoch 197, train loss 1.3542, train acc 0.558, test loss 1.4009, test acc 0.475, time 0.0 sec\n",
            "epoch 198, train loss 1.3405, train acc 0.558, test loss 1.3904, test acc 0.475, time 0.0 sec\n",
            "epoch 199, train loss 1.3308, train acc 0.558, test loss 1.3792, test acc 0.475, time 0.0 sec\n",
            "epoch 200, train loss 1.3130, train acc 0.558, test loss 1.3677, test acc 0.475, time 0.0 sec\n",
            "epoch 201, train loss 1.3028, train acc 0.558, test loss 1.3556, test acc 0.475, time 0.0 sec\n",
            "epoch 202, train loss 1.2808, train acc 0.558, test loss 1.3433, test acc 0.475, time 0.0 sec\n",
            "epoch 203, train loss 1.2697, train acc 0.558, test loss 1.3306, test acc 0.475, time 0.0 sec\n",
            "epoch 204, train loss 1.2561, train acc 0.558, test loss 1.3176, test acc 0.475, time 0.0 sec\n",
            "epoch 205, train loss 1.2369, train acc 0.558, test loss 1.3047, test acc 0.475, time 0.0 sec\n",
            "epoch 206, train loss 1.2144, train acc 0.558, test loss 1.2918, test acc 0.475, time 0.0 sec\n",
            "epoch 207, train loss 1.2006, train acc 0.558, test loss 1.2790, test acc 0.475, time 0.0 sec\n",
            "epoch 208, train loss 1.1793, train acc 0.558, test loss 1.2665, test acc 0.475, time 0.0 sec\n",
            "epoch 209, train loss 1.1679, train acc 0.558, test loss 1.2544, test acc 0.475, time 0.0 sec\n",
            "epoch 210, train loss 1.1515, train acc 0.558, test loss 1.2429, test acc 0.475, time 0.0 sec\n",
            "epoch 211, train loss 1.1495, train acc 0.558, test loss 1.2321, test acc 0.475, time 0.0 sec\n",
            "epoch 212, train loss 1.1277, train acc 0.558, test loss 1.2222, test acc 0.475, time 0.0 sec\n",
            "epoch 213, train loss 1.1113, train acc 0.558, test loss 1.2131, test acc 0.475, time 0.0 sec\n",
            "epoch 214, train loss 1.1043, train acc 0.558, test loss 1.2046, test acc 0.475, time 0.0 sec\n",
            "epoch 215, train loss 1.0966, train acc 0.558, test loss 1.1971, test acc 0.475, time 0.0 sec\n",
            "epoch 216, train loss 1.0811, train acc 0.558, test loss 1.1905, test acc 0.475, time 0.0 sec\n",
            "epoch 217, train loss 1.0740, train acc 0.558, test loss 1.1847, test acc 0.475, time 0.0 sec\n",
            "epoch 218, train loss 1.0659, train acc 0.558, test loss 1.1795, test acc 0.475, time 0.0 sec\n",
            "epoch 219, train loss 1.0631, train acc 0.558, test loss 1.1749, test acc 0.475, time 0.0 sec\n",
            "epoch 220, train loss 1.0503, train acc 0.558, test loss 1.1709, test acc 0.475, time 0.0 sec\n",
            "epoch 221, train loss 1.0496, train acc 0.558, test loss 1.1673, test acc 0.475, time 0.0 sec\n",
            "epoch 222, train loss 1.0555, train acc 0.558, test loss 1.1641, test acc 0.475, time 0.0 sec\n",
            "epoch 223, train loss 1.0402, train acc 0.558, test loss 1.1611, test acc 0.475, time 0.0 sec\n",
            "epoch 224, train loss 1.0413, train acc 0.558, test loss 1.1585, test acc 0.475, time 0.0 sec\n",
            "epoch 225, train loss 1.0395, train acc 0.558, test loss 1.1560, test acc 0.475, time 0.0 sec\n",
            "epoch 226, train loss 1.0305, train acc 0.558, test loss 1.1536, test acc 0.475, time 0.0 sec\n",
            "epoch 227, train loss 1.0333, train acc 0.558, test loss 1.1514, test acc 0.475, time 0.0 sec\n",
            "epoch 228, train loss 1.0242, train acc 0.558, test loss 1.1493, test acc 0.475, time 0.0 sec\n",
            "epoch 229, train loss 1.0232, train acc 0.558, test loss 1.1472, test acc 0.475, time 0.0 sec\n",
            "epoch 230, train loss 1.0082, train acc 0.558, test loss 1.1451, test acc 0.475, time 0.0 sec\n",
            "epoch 231, train loss 1.0238, train acc 0.558, test loss 1.1432, test acc 0.475, time 0.0 sec\n",
            "epoch 232, train loss 1.0117, train acc 0.558, test loss 1.1411, test acc 0.475, time 0.0 sec\n",
            "epoch 233, train loss 1.0115, train acc 0.558, test loss 1.1391, test acc 0.475, time 0.0 sec\n",
            "epoch 234, train loss 1.0026, train acc 0.558, test loss 1.1371, test acc 0.475, time 0.0 sec\n",
            "epoch 235, train loss 1.0121, train acc 0.558, test loss 1.1351, test acc 0.475, time 0.0 sec\n",
            "epoch 236, train loss 1.0024, train acc 0.558, test loss 1.1331, test acc 0.475, time 0.0 sec\n",
            "epoch 237, train loss 1.0066, train acc 0.558, test loss 1.1312, test acc 0.475, time 0.0 sec\n",
            "epoch 238, train loss 1.0153, train acc 0.558, test loss 1.1293, test acc 0.475, time 0.0 sec\n",
            "epoch 239, train loss 0.9941, train acc 0.558, test loss 1.1273, test acc 0.475, time 0.0 sec\n",
            "epoch 240, train loss 1.0003, train acc 0.558, test loss 1.1254, test acc 0.475, time 0.0 sec\n",
            "epoch 241, train loss 0.9947, train acc 0.558, test loss 1.1234, test acc 0.475, time 0.0 sec\n",
            "epoch 242, train loss 1.0108, train acc 0.558, test loss 1.1216, test acc 0.475, time 0.0 sec\n",
            "epoch 243, train loss 0.9857, train acc 0.558, test loss 1.1195, test acc 0.475, time 0.0 sec\n",
            "epoch 244, train loss 0.9949, train acc 0.558, test loss 1.1176, test acc 0.475, time 0.0 sec\n",
            "epoch 245, train loss 0.9971, train acc 0.558, test loss 1.1156, test acc 0.475, time 0.0 sec\n",
            "epoch 246, train loss 0.9861, train acc 0.558, test loss 1.1136, test acc 0.475, time 0.0 sec\n",
            "epoch 247, train loss 0.9897, train acc 0.558, test loss 1.1117, test acc 0.475, time 0.0 sec\n",
            "epoch 248, train loss 0.9866, train acc 0.558, test loss 1.1098, test acc 0.475, time 0.0 sec\n",
            "epoch 249, train loss 0.9752, train acc 0.558, test loss 1.1079, test acc 0.475, time 0.0 sec\n",
            "epoch 250, train loss 0.9823, train acc 0.558, test loss 1.1060, test acc 0.475, time 0.0 sec\n",
            "epoch 251, train loss 0.9778, train acc 0.558, test loss 1.1042, test acc 0.475, time 0.0 sec\n",
            "epoch 252, train loss 0.9741, train acc 0.558, test loss 1.1023, test acc 0.475, time 0.0 sec\n",
            "epoch 253, train loss 0.9786, train acc 0.558, test loss 1.1005, test acc 0.475, time 0.0 sec\n",
            "epoch 254, train loss 0.9773, train acc 0.558, test loss 1.0987, test acc 0.475, time 0.0 sec\n",
            "epoch 255, train loss 0.9806, train acc 0.558, test loss 1.0970, test acc 0.475, time 0.0 sec\n",
            "epoch 256, train loss 0.9680, train acc 0.558, test loss 1.0952, test acc 0.475, time 0.0 sec\n",
            "epoch 257, train loss 0.9689, train acc 0.558, test loss 1.0934, test acc 0.475, time 0.0 sec\n",
            "epoch 258, train loss 0.9678, train acc 0.558, test loss 1.0917, test acc 0.475, time 0.0 sec\n",
            "epoch 259, train loss 0.9781, train acc 0.558, test loss 1.0901, test acc 0.475, time 0.0 sec\n",
            "epoch 260, train loss 0.9735, train acc 0.558, test loss 1.0885, test acc 0.475, time 0.0 sec\n",
            "epoch 261, train loss 0.9610, train acc 0.558, test loss 1.0869, test acc 0.475, time 0.0 sec\n",
            "epoch 262, train loss 0.9582, train acc 0.558, test loss 1.0853, test acc 0.475, time 0.0 sec\n",
            "epoch 263, train loss 0.9551, train acc 0.558, test loss 1.0835, test acc 0.475, time 0.0 sec\n",
            "epoch 264, train loss 0.9624, train acc 0.558, test loss 1.0818, test acc 0.475, time 0.0 sec\n",
            "epoch 265, train loss 0.9571, train acc 0.558, test loss 1.0803, test acc 0.475, time 0.0 sec\n",
            "epoch 266, train loss 0.9619, train acc 0.558, test loss 1.0789, test acc 0.475, time 0.0 sec\n",
            "epoch 267, train loss 0.9595, train acc 0.558, test loss 1.0777, test acc 0.475, time 0.0 sec\n",
            "epoch 268, train loss 0.9473, train acc 0.558, test loss 1.0762, test acc 0.475, time 0.0 sec\n",
            "epoch 269, train loss 0.9414, train acc 0.558, test loss 1.0749, test acc 0.475, time 0.0 sec\n",
            "epoch 270, train loss 0.9445, train acc 0.558, test loss 1.0738, test acc 0.475, time 0.0 sec\n",
            "epoch 271, train loss 0.9480, train acc 0.558, test loss 1.0727, test acc 0.475, time 0.0 sec\n",
            "epoch 272, train loss 0.9413, train acc 0.558, test loss 1.0716, test acc 0.475, time 0.0 sec\n",
            "epoch 273, train loss 0.9372, train acc 0.558, test loss 1.0706, test acc 0.475, time 0.0 sec\n",
            "epoch 274, train loss 0.9444, train acc 0.558, test loss 1.0695, test acc 0.475, time 0.0 sec\n",
            "epoch 275, train loss 0.9414, train acc 0.558, test loss 1.0686, test acc 0.475, time 0.0 sec\n",
            "epoch 276, train loss 0.9411, train acc 0.558, test loss 1.0679, test acc 0.475, time 0.0 sec\n",
            "epoch 277, train loss 0.9496, train acc 0.558, test loss 1.0669, test acc 0.475, time 0.0 sec\n",
            "epoch 278, train loss 0.9397, train acc 0.558, test loss 1.0662, test acc 0.475, time 0.0 sec\n",
            "epoch 279, train loss 0.9441, train acc 0.558, test loss 1.0655, test acc 0.475, time 0.0 sec\n",
            "epoch 280, train loss 0.9457, train acc 0.558, test loss 1.0647, test acc 0.475, time 0.0 sec\n",
            "epoch 281, train loss 0.9259, train acc 0.558, test loss 1.0639, test acc 0.475, time 0.0 sec\n",
            "epoch 282, train loss 0.9292, train acc 0.558, test loss 1.0631, test acc 0.475, time 0.0 sec\n",
            "epoch 283, train loss 0.9373, train acc 0.558, test loss 1.0625, test acc 0.475, time 0.0 sec\n",
            "epoch 284, train loss 0.9392, train acc 0.558, test loss 1.0620, test acc 0.475, time 0.0 sec\n",
            "epoch 285, train loss 0.9243, train acc 0.558, test loss 1.0614, test acc 0.475, time 0.0 sec\n",
            "epoch 286, train loss 0.9278, train acc 0.558, test loss 1.0607, test acc 0.475, time 0.0 sec\n",
            "epoch 287, train loss 0.9328, train acc 0.558, test loss 1.0602, test acc 0.475, time 0.0 sec\n",
            "epoch 288, train loss 0.9370, train acc 0.558, test loss 1.0596, test acc 0.475, time 0.0 sec\n",
            "epoch 289, train loss 0.9395, train acc 0.558, test loss 1.0589, test acc 0.475, time 0.0 sec\n",
            "epoch 290, train loss 0.9297, train acc 0.558, test loss 1.0584, test acc 0.475, time 0.0 sec\n",
            "epoch 291, train loss 0.9291, train acc 0.558, test loss 1.0577, test acc 0.475, time 0.0 sec\n",
            "epoch 292, train loss 0.9247, train acc 0.558, test loss 1.0570, test acc 0.475, time 0.0 sec\n",
            "epoch 293, train loss 0.9218, train acc 0.558, test loss 1.0566, test acc 0.475, time 0.0 sec\n",
            "epoch 294, train loss 0.9228, train acc 0.558, test loss 1.0560, test acc 0.475, time 0.0 sec\n",
            "epoch 295, train loss 0.9245, train acc 0.558, test loss 1.0556, test acc 0.475, time 0.0 sec\n",
            "epoch 296, train loss 0.9290, train acc 0.558, test loss 1.0551, test acc 0.475, time 0.0 sec\n",
            "epoch 297, train loss 0.9200, train acc 0.558, test loss 1.0547, test acc 0.475, time 0.0 sec\n",
            "epoch 298, train loss 0.9284, train acc 0.558, test loss 1.0542, test acc 0.475, time 0.0 sec\n",
            "epoch 299, train loss 0.9234, train acc 0.558, test loss 1.0538, test acc 0.475, time 0.0 sec\n",
            "epoch 300, train loss 0.9236, train acc 0.558, test loss 1.0535, test acc 0.475, time 0.0 sec\n",
            "epoch 301, train loss 0.9209, train acc 0.558, test loss 1.0531, test acc 0.475, time 0.0 sec\n",
            "epoch 302, train loss 0.9188, train acc 0.558, test loss 1.0528, test acc 0.475, time 0.0 sec\n",
            "epoch 303, train loss 0.9260, train acc 0.558, test loss 1.0524, test acc 0.475, time 0.0 sec\n",
            "epoch 304, train loss 0.9176, train acc 0.558, test loss 1.0521, test acc 0.475, time 0.0 sec\n",
            "epoch 305, train loss 0.9342, train acc 0.558, test loss 1.0519, test acc 0.475, time 0.0 sec\n",
            "epoch 306, train loss 0.9176, train acc 0.558, test loss 1.0516, test acc 0.475, time 0.0 sec\n",
            "epoch 307, train loss 0.9285, train acc 0.558, test loss 1.0513, test acc 0.475, time 0.0 sec\n",
            "epoch 308, train loss 0.9245, train acc 0.558, test loss 1.0509, test acc 0.475, time 0.0 sec\n",
            "epoch 309, train loss 0.9234, train acc 0.558, test loss 1.0506, test acc 0.475, time 0.0 sec\n",
            "epoch 310, train loss 0.9245, train acc 0.558, test loss 1.0503, test acc 0.475, time 0.0 sec\n",
            "epoch 311, train loss 0.9205, train acc 0.558, test loss 1.0498, test acc 0.475, time 0.0 sec\n",
            "epoch 312, train loss 0.9181, train acc 0.558, test loss 1.0495, test acc 0.475, time 0.0 sec\n",
            "epoch 313, train loss 0.9150, train acc 0.558, test loss 1.0492, test acc 0.475, time 0.0 sec\n",
            "epoch 314, train loss 0.9228, train acc 0.566, test loss 1.0489, test acc 0.475, time 0.0 sec\n",
            "epoch 315, train loss 0.9204, train acc 0.579, test loss 1.0486, test acc 0.525, time 0.0 sec\n",
            "epoch 316, train loss 0.9177, train acc 0.587, test loss 1.0483, test acc 0.508, time 0.0 sec\n",
            "epoch 317, train loss 0.9244, train acc 0.587, test loss 1.0480, test acc 0.525, time 0.0 sec\n",
            "epoch 318, train loss 0.9119, train acc 0.587, test loss 1.0477, test acc 0.525, time 0.0 sec\n",
            "epoch 319, train loss 0.9080, train acc 0.591, test loss 1.0475, test acc 0.525, time 0.0 sec\n",
            "epoch 320, train loss 0.9071, train acc 0.599, test loss 1.0471, test acc 0.541, time 0.0 sec\n",
            "epoch 321, train loss 0.9113, train acc 0.595, test loss 1.0467, test acc 0.557, time 0.0 sec\n",
            "epoch 322, train loss 0.9011, train acc 0.599, test loss 1.0466, test acc 0.508, time 0.0 sec\n",
            "epoch 323, train loss 0.9138, train acc 0.603, test loss 1.0464, test acc 0.525, time 0.0 sec\n",
            "epoch 324, train loss 0.9134, train acc 0.620, test loss 1.0460, test acc 0.508, time 0.0 sec\n",
            "epoch 325, train loss 0.9156, train acc 0.624, test loss 1.0455, test acc 0.525, time 0.0 sec\n",
            "epoch 326, train loss 0.8984, train acc 0.628, test loss 1.0451, test acc 0.525, time 0.0 sec\n",
            "epoch 327, train loss 0.9175, train acc 0.632, test loss 1.0449, test acc 0.525, time 0.0 sec\n",
            "epoch 328, train loss 0.8996, train acc 0.632, test loss 1.0446, test acc 0.525, time 0.0 sec\n",
            "epoch 329, train loss 0.9097, train acc 0.632, test loss 1.0443, test acc 0.525, time 0.0 sec\n",
            "epoch 330, train loss 0.8929, train acc 0.632, test loss 1.0439, test acc 0.525, time 0.0 sec\n",
            "epoch 331, train loss 0.9005, train acc 0.632, test loss 1.0437, test acc 0.525, time 0.0 sec\n",
            "epoch 332, train loss 0.8985, train acc 0.636, test loss 1.0435, test acc 0.525, time 0.0 sec\n",
            "epoch 333, train loss 0.8891, train acc 0.640, test loss 1.0431, test acc 0.525, time 0.0 sec\n",
            "epoch 334, train loss 0.8974, train acc 0.645, test loss 1.0428, test acc 0.525, time 0.0 sec\n",
            "epoch 335, train loss 0.9221, train acc 0.645, test loss 1.0425, test acc 0.525, time 0.0 sec\n",
            "epoch 336, train loss 0.8988, train acc 0.645, test loss 1.0421, test acc 0.525, time 0.0 sec\n",
            "epoch 337, train loss 0.9020, train acc 0.645, test loss 1.0417, test acc 0.525, time 0.0 sec\n",
            "epoch 338, train loss 0.9023, train acc 0.640, test loss 1.0413, test acc 0.525, time 0.0 sec\n",
            "epoch 339, train loss 0.9003, train acc 0.645, test loss 1.0410, test acc 0.525, time 0.0 sec\n",
            "epoch 340, train loss 0.9099, train acc 0.645, test loss 1.0406, test acc 0.525, time 0.0 sec\n",
            "epoch 341, train loss 0.9073, train acc 0.649, test loss 1.0402, test acc 0.525, time 0.0 sec\n",
            "epoch 342, train loss 0.9032, train acc 0.649, test loss 1.0399, test acc 0.525, time 0.0 sec\n",
            "epoch 343, train loss 0.9031, train acc 0.649, test loss 1.0396, test acc 0.525, time 0.0 sec\n",
            "epoch 344, train loss 0.8991, train acc 0.649, test loss 1.0392, test acc 0.525, time 0.0 sec\n",
            "epoch 345, train loss 0.8975, train acc 0.649, test loss 1.0389, test acc 0.525, time 0.0 sec\n",
            "epoch 346, train loss 0.9006, train acc 0.649, test loss 1.0386, test acc 0.525, time 0.0 sec\n",
            "epoch 347, train loss 0.8929, train acc 0.649, test loss 1.0383, test acc 0.541, time 0.0 sec\n",
            "epoch 348, train loss 0.9004, train acc 0.649, test loss 1.0380, test acc 0.541, time 0.0 sec\n",
            "epoch 349, train loss 0.9024, train acc 0.653, test loss 1.0375, test acc 0.541, time 0.0 sec\n",
            "epoch 350, train loss 0.8915, train acc 0.653, test loss 1.0372, test acc 0.541, time 0.0 sec\n",
            "epoch 351, train loss 0.8905, train acc 0.653, test loss 1.0370, test acc 0.541, time 0.0 sec\n",
            "epoch 352, train loss 0.8898, train acc 0.653, test loss 1.0367, test acc 0.541, time 0.0 sec\n",
            "epoch 353, train loss 0.8901, train acc 0.649, test loss 1.0365, test acc 0.541, time 0.0 sec\n",
            "epoch 354, train loss 0.8974, train acc 0.649, test loss 1.0364, test acc 0.541, time 0.0 sec\n",
            "epoch 355, train loss 0.8967, train acc 0.649, test loss 1.0359, test acc 0.541, time 0.0 sec\n",
            "epoch 356, train loss 0.8951, train acc 0.649, test loss 1.0356, test acc 0.541, time 0.0 sec\n",
            "epoch 357, train loss 0.8993, train acc 0.649, test loss 1.0354, test acc 0.541, time 0.0 sec\n",
            "epoch 358, train loss 0.8801, train acc 0.649, test loss 1.0351, test acc 0.541, time 0.0 sec\n",
            "epoch 359, train loss 0.8962, train acc 0.649, test loss 1.0350, test acc 0.541, time 0.0 sec\n",
            "epoch 360, train loss 0.8941, train acc 0.649, test loss 1.0347, test acc 0.541, time 0.0 sec\n",
            "epoch 361, train loss 0.8884, train acc 0.649, test loss 1.0344, test acc 0.541, time 0.0 sec\n",
            "epoch 362, train loss 0.8863, train acc 0.649, test loss 1.0341, test acc 0.541, time 0.0 sec\n",
            "epoch 363, train loss 0.8840, train acc 0.649, test loss 1.0338, test acc 0.541, time 0.0 sec\n",
            "epoch 364, train loss 0.9012, train acc 0.649, test loss 1.0335, test acc 0.541, time 0.0 sec\n",
            "epoch 365, train loss 0.8846, train acc 0.649, test loss 1.0332, test acc 0.541, time 0.0 sec\n",
            "epoch 366, train loss 0.8906, train acc 0.649, test loss 1.0330, test acc 0.541, time 0.0 sec\n",
            "epoch 367, train loss 0.8973, train acc 0.649, test loss 1.0328, test acc 0.541, time 0.0 sec\n",
            "epoch 368, train loss 0.8875, train acc 0.649, test loss 1.0326, test acc 0.541, time 0.0 sec\n",
            "epoch 369, train loss 0.8846, train acc 0.649, test loss 1.0323, test acc 0.541, time 0.0 sec\n",
            "epoch 370, train loss 0.8828, train acc 0.653, test loss 1.0320, test acc 0.541, time 0.0 sec\n",
            "epoch 371, train loss 0.8891, train acc 0.653, test loss 1.0315, test acc 0.541, time 0.0 sec\n",
            "epoch 372, train loss 0.8852, train acc 0.653, test loss 1.0314, test acc 0.541, time 0.0 sec\n",
            "epoch 373, train loss 0.8810, train acc 0.653, test loss 1.0311, test acc 0.541, time 0.0 sec\n",
            "epoch 374, train loss 0.8812, train acc 0.653, test loss 1.0310, test acc 0.541, time 0.0 sec\n",
            "epoch 375, train loss 0.8846, train acc 0.653, test loss 1.0305, test acc 0.541, time 0.0 sec\n",
            "epoch 376, train loss 0.8803, train acc 0.653, test loss 1.0302, test acc 0.557, time 0.0 sec\n",
            "epoch 377, train loss 0.8820, train acc 0.653, test loss 1.0300, test acc 0.557, time 0.0 sec\n",
            "epoch 378, train loss 0.8770, train acc 0.653, test loss 1.0299, test acc 0.557, time 0.0 sec\n",
            "epoch 379, train loss 0.8785, train acc 0.649, test loss 1.0296, test acc 0.557, time 0.0 sec\n",
            "epoch 380, train loss 0.8784, train acc 0.649, test loss 1.0292, test acc 0.557, time 0.0 sec\n",
            "epoch 381, train loss 0.8831, train acc 0.653, test loss 1.0289, test acc 0.557, time 0.0 sec\n",
            "epoch 382, train loss 0.8853, train acc 0.653, test loss 1.0286, test acc 0.557, time 0.0 sec\n",
            "epoch 383, train loss 0.8839, train acc 0.653, test loss 1.0285, test acc 0.557, time 0.0 sec\n",
            "epoch 384, train loss 0.8783, train acc 0.653, test loss 1.0280, test acc 0.541, time 0.0 sec\n",
            "epoch 385, train loss 0.8681, train acc 0.653, test loss 1.0278, test acc 0.541, time 0.0 sec\n",
            "epoch 386, train loss 0.8740, train acc 0.653, test loss 1.0276, test acc 0.557, time 0.0 sec\n",
            "epoch 387, train loss 0.8880, train acc 0.653, test loss 1.0274, test acc 0.557, time 0.0 sec\n",
            "epoch 388, train loss 0.8777, train acc 0.653, test loss 1.0272, test acc 0.557, time 0.0 sec\n",
            "epoch 389, train loss 0.8803, train acc 0.653, test loss 1.0270, test acc 0.557, time 0.0 sec\n",
            "epoch 390, train loss 0.8710, train acc 0.653, test loss 1.0267, test acc 0.557, time 0.0 sec\n",
            "epoch 391, train loss 0.8784, train acc 0.653, test loss 1.0263, test acc 0.557, time 0.0 sec\n",
            "epoch 392, train loss 0.8699, train acc 0.653, test loss 1.0259, test acc 0.557, time 0.0 sec\n",
            "epoch 393, train loss 0.8689, train acc 0.653, test loss 1.0258, test acc 0.557, time 0.0 sec\n",
            "epoch 394, train loss 0.8717, train acc 0.653, test loss 1.0255, test acc 0.557, time 0.0 sec\n",
            "epoch 395, train loss 0.8825, train acc 0.653, test loss 1.0253, test acc 0.557, time 0.0 sec\n",
            "epoch 396, train loss 0.8822, train acc 0.653, test loss 1.0252, test acc 0.557, time 0.0 sec\n",
            "epoch 397, train loss 0.8654, train acc 0.653, test loss 1.0249, test acc 0.557, time 0.0 sec\n",
            "epoch 398, train loss 0.8671, train acc 0.649, test loss 1.0248, test acc 0.557, time 0.0 sec\n",
            "epoch 399, train loss 0.8751, train acc 0.653, test loss 1.0245, test acc 0.557, time 0.0 sec\n",
            "epoch 400, train loss 0.8754, train acc 0.649, test loss 1.0244, test acc 0.574, time 0.0 sec\n",
            "epoch 401, train loss 0.8677, train acc 0.649, test loss 1.0244, test acc 0.574, time 0.0 sec\n",
            "epoch 402, train loss 0.8786, train acc 0.649, test loss 1.0242, test acc 0.574, time 0.0 sec\n",
            "epoch 403, train loss 0.8636, train acc 0.649, test loss 1.0243, test acc 0.574, time 0.0 sec\n",
            "epoch 404, train loss 0.8788, train acc 0.649, test loss 1.0242, test acc 0.574, time 0.0 sec\n",
            "epoch 405, train loss 0.8728, train acc 0.649, test loss 1.0239, test acc 0.590, time 0.0 sec\n",
            "epoch 406, train loss 0.8653, train acc 0.649, test loss 1.0238, test acc 0.590, time 0.0 sec\n",
            "epoch 407, train loss 0.8610, train acc 0.649, test loss 1.0237, test acc 0.590, time 0.0 sec\n",
            "epoch 408, train loss 0.8599, train acc 0.649, test loss 1.0235, test acc 0.590, time 0.0 sec\n",
            "epoch 409, train loss 0.8701, train acc 0.649, test loss 1.0234, test acc 0.590, time 0.0 sec\n",
            "epoch 410, train loss 0.8603, train acc 0.649, test loss 1.0234, test acc 0.590, time 0.0 sec\n",
            "epoch 411, train loss 0.8781, train acc 0.649, test loss 1.0234, test acc 0.590, time 0.0 sec\n",
            "epoch 412, train loss 0.8664, train acc 0.649, test loss 1.0231, test acc 0.590, time 0.0 sec\n",
            "epoch 413, train loss 0.8597, train acc 0.645, test loss 1.0232, test acc 0.590, time 0.0 sec\n",
            "epoch 414, train loss 0.8660, train acc 0.645, test loss 1.0230, test acc 0.590, time 0.0 sec\n",
            "epoch 415, train loss 0.8688, train acc 0.645, test loss 1.0230, test acc 0.590, time 0.0 sec\n",
            "epoch 416, train loss 0.8665, train acc 0.645, test loss 1.0227, test acc 0.590, time 0.0 sec\n",
            "epoch 417, train loss 0.8664, train acc 0.645, test loss 1.0227, test acc 0.590, time 0.0 sec\n",
            "epoch 418, train loss 0.8624, train acc 0.645, test loss 1.0224, test acc 0.590, time 0.0 sec\n",
            "epoch 419, train loss 0.8618, train acc 0.645, test loss 1.0224, test acc 0.590, time 0.0 sec\n",
            "epoch 420, train loss 0.8715, train acc 0.645, test loss 1.0222, test acc 0.590, time 0.0 sec\n",
            "epoch 421, train loss 0.8531, train acc 0.645, test loss 1.0221, test acc 0.590, time 0.0 sec\n",
            "epoch 422, train loss 0.8574, train acc 0.649, test loss 1.0220, test acc 0.590, time 0.0 sec\n",
            "epoch 423, train loss 0.8680, train acc 0.649, test loss 1.0220, test acc 0.590, time 0.0 sec\n",
            "epoch 424, train loss 0.8631, train acc 0.649, test loss 1.0218, test acc 0.590, time 0.0 sec\n",
            "epoch 425, train loss 0.8619, train acc 0.649, test loss 1.0217, test acc 0.590, time 0.0 sec\n",
            "epoch 426, train loss 0.8569, train acc 0.649, test loss 1.0216, test acc 0.590, time 0.0 sec\n",
            "epoch 427, train loss 0.8568, train acc 0.649, test loss 1.0216, test acc 0.590, time 0.0 sec\n",
            "epoch 428, train loss 0.8722, train acc 0.649, test loss 1.0216, test acc 0.590, time 0.0 sec\n",
            "epoch 429, train loss 0.8621, train acc 0.649, test loss 1.0216, test acc 0.590, time 0.0 sec\n",
            "epoch 430, train loss 0.8593, train acc 0.649, test loss 1.0216, test acc 0.590, time 0.0 sec\n",
            "epoch 431, train loss 0.8601, train acc 0.649, test loss 1.0213, test acc 0.590, time 0.0 sec\n",
            "epoch 432, train loss 0.8580, train acc 0.649, test loss 1.0214, test acc 0.590, time 0.0 sec\n",
            "epoch 433, train loss 0.8568, train acc 0.649, test loss 1.0213, test acc 0.590, time 0.0 sec\n",
            "epoch 434, train loss 0.8595, train acc 0.649, test loss 1.0213, test acc 0.590, time 0.0 sec\n",
            "epoch 435, train loss 0.8516, train acc 0.653, test loss 1.0212, test acc 0.590, time 0.0 sec\n",
            "epoch 436, train loss 0.8594, train acc 0.653, test loss 1.0213, test acc 0.590, time 0.0 sec\n",
            "epoch 437, train loss 0.8545, train acc 0.653, test loss 1.0213, test acc 0.590, time 0.0 sec\n",
            "epoch 438, train loss 0.8606, train acc 0.653, test loss 1.0212, test acc 0.590, time 0.0 sec\n",
            "epoch 439, train loss 0.8612, train acc 0.653, test loss 1.0212, test acc 0.590, time 0.0 sec\n",
            "epoch 440, train loss 0.8512, train acc 0.653, test loss 1.0211, test acc 0.590, time 0.0 sec\n",
            "epoch 441, train loss 0.8648, train acc 0.653, test loss 1.0211, test acc 0.590, time 0.0 sec\n",
            "epoch 442, train loss 0.8531, train acc 0.653, test loss 1.0211, test acc 0.590, time 0.0 sec\n",
            "epoch 443, train loss 0.8523, train acc 0.653, test loss 1.0212, test acc 0.590, time 0.0 sec\n",
            "epoch 444, train loss 0.8655, train acc 0.653, test loss 1.0213, test acc 0.590, time 0.0 sec\n",
            "epoch 445, train loss 0.8563, train acc 0.653, test loss 1.0214, test acc 0.590, time 0.0 sec\n",
            "epoch 446, train loss 0.8488, train acc 0.653, test loss 1.0215, test acc 0.590, time 0.0 sec\n",
            "epoch 447, train loss 0.8527, train acc 0.653, test loss 1.0217, test acc 0.590, time 0.0 sec\n",
            "epoch 448, train loss 0.8606, train acc 0.653, test loss 1.0218, test acc 0.574, time 0.0 sec\n",
            "epoch 449, train loss 0.8557, train acc 0.653, test loss 1.0218, test acc 0.574, time 0.0 sec\n",
            "epoch 450, train loss 0.8580, train acc 0.653, test loss 1.0218, test acc 0.574, time 0.0 sec\n",
            "epoch 451, train loss 0.8535, train acc 0.653, test loss 1.0217, test acc 0.574, time 0.0 sec\n",
            "epoch 452, train loss 0.8458, train acc 0.653, test loss 1.0216, test acc 0.574, time 0.0 sec\n",
            "epoch 453, train loss 0.8482, train acc 0.653, test loss 1.0214, test acc 0.574, time 0.0 sec\n",
            "epoch 454, train loss 0.8594, train acc 0.653, test loss 1.0215, test acc 0.574, time 0.0 sec\n",
            "epoch 455, train loss 0.8542, train acc 0.653, test loss 1.0215, test acc 0.574, time 0.0 sec\n",
            "epoch 456, train loss 0.8677, train acc 0.653, test loss 1.0215, test acc 0.574, time 0.0 sec\n",
            "epoch 457, train loss 0.8508, train acc 0.653, test loss 1.0215, test acc 0.574, time 0.0 sec\n",
            "epoch 458, train loss 0.8677, train acc 0.653, test loss 1.0216, test acc 0.574, time 0.0 sec\n",
            "epoch 459, train loss 0.8392, train acc 0.653, test loss 1.0217, test acc 0.574, time 0.0 sec\n",
            "epoch 460, train loss 0.8480, train acc 0.649, test loss 1.0216, test acc 0.574, time 0.0 sec\n",
            "epoch 461, train loss 0.8589, train acc 0.649, test loss 1.0217, test acc 0.574, time 0.0 sec\n",
            "epoch 462, train loss 0.8602, train acc 0.649, test loss 1.0218, test acc 0.574, time 0.0 sec\n",
            "epoch 463, train loss 0.8485, train acc 0.649, test loss 1.0218, test acc 0.574, time 0.0 sec\n",
            "epoch 464, train loss 0.8493, train acc 0.649, test loss 1.0218, test acc 0.574, time 0.0 sec\n",
            "epoch 465, train loss 0.8506, train acc 0.649, test loss 1.0218, test acc 0.574, time 0.0 sec\n",
            "epoch 466, train loss 0.8508, train acc 0.649, test loss 1.0219, test acc 0.574, time 0.0 sec\n",
            "epoch 467, train loss 0.8412, train acc 0.649, test loss 1.0219, test acc 0.574, time 0.0 sec\n",
            "epoch 468, train loss 0.8503, train acc 0.649, test loss 1.0219, test acc 0.574, time 0.0 sec\n",
            "epoch 469, train loss 0.8488, train acc 0.649, test loss 1.0220, test acc 0.574, time 0.0 sec\n",
            "epoch 470, train loss 0.8432, train acc 0.649, test loss 1.0219, test acc 0.574, time 0.0 sec\n",
            "epoch 471, train loss 0.8595, train acc 0.649, test loss 1.0220, test acc 0.574, time 0.0 sec\n",
            "epoch 472, train loss 0.8493, train acc 0.649, test loss 1.0221, test acc 0.574, time 0.0 sec\n",
            "epoch 473, train loss 0.8509, train acc 0.649, test loss 1.0218, test acc 0.574, time 0.0 sec\n",
            "epoch 474, train loss 0.8570, train acc 0.649, test loss 1.0218, test acc 0.574, time 0.0 sec\n",
            "epoch 475, train loss 0.8526, train acc 0.649, test loss 1.0220, test acc 0.574, time 0.0 sec\n",
            "epoch 476, train loss 0.8482, train acc 0.649, test loss 1.0219, test acc 0.574, time 0.0 sec\n",
            "epoch 477, train loss 0.8529, train acc 0.649, test loss 1.0218, test acc 0.574, time 0.0 sec\n",
            "epoch 478, train loss 0.8473, train acc 0.649, test loss 1.0217, test acc 0.574, time 0.0 sec\n",
            "epoch 479, train loss 0.8439, train acc 0.649, test loss 1.0217, test acc 0.574, time 0.0 sec\n",
            "epoch 480, train loss 0.8477, train acc 0.649, test loss 1.0217, test acc 0.574, time 0.0 sec\n",
            "epoch 481, train loss 0.8553, train acc 0.649, test loss 1.0217, test acc 0.574, time 0.0 sec\n",
            "epoch 482, train loss 0.8457, train acc 0.649, test loss 1.0217, test acc 0.574, time 0.0 sec\n",
            "epoch 483, train loss 0.8463, train acc 0.649, test loss 1.0217, test acc 0.574, time 0.0 sec\n",
            "epoch 484, train loss 0.8537, train acc 0.649, test loss 1.0217, test acc 0.574, time 0.0 sec\n",
            "epoch 485, train loss 0.8482, train acc 0.653, test loss 1.0217, test acc 0.574, time 0.0 sec\n",
            "epoch 486, train loss 0.8498, train acc 0.653, test loss 1.0218, test acc 0.574, time 0.0 sec\n",
            "epoch 487, train loss 0.8481, train acc 0.653, test loss 1.0217, test acc 0.574, time 0.0 sec\n",
            "epoch 488, train loss 0.8489, train acc 0.653, test loss 1.0217, test acc 0.574, time 0.0 sec\n",
            "epoch 489, train loss 0.8435, train acc 0.653, test loss 1.0217, test acc 0.574, time 0.0 sec\n",
            "epoch 490, train loss 0.8499, train acc 0.653, test loss 1.0217, test acc 0.574, time 0.0 sec\n",
            "epoch 491, train loss 0.8515, train acc 0.653, test loss 1.0218, test acc 0.574, time 0.0 sec\n",
            "epoch 492, train loss 0.8454, train acc 0.653, test loss 1.0217, test acc 0.574, time 0.0 sec\n",
            "epoch 493, train loss 0.8527, train acc 0.653, test loss 1.0216, test acc 0.574, time 0.0 sec\n",
            "epoch 494, train loss 0.8454, train acc 0.653, test loss 1.0216, test acc 0.574, time 0.0 sec\n",
            "epoch 495, train loss 0.8441, train acc 0.653, test loss 1.0217, test acc 0.574, time 0.0 sec\n",
            "epoch 496, train loss 0.8496, train acc 0.653, test loss 1.0217, test acc 0.574, time 0.0 sec\n",
            "epoch 497, train loss 0.8493, train acc 0.653, test loss 1.0218, test acc 0.574, time 0.0 sec\n",
            "epoch 498, train loss 0.8517, train acc 0.653, test loss 1.0218, test acc 0.574, time 0.0 sec\n",
            "epoch 499, train loss 0.8472, train acc 0.653, test loss 1.0217, test acc 0.574, time 0.0 sec\n",
            "epoch 500, train loss 0.8461, train acc 0.653, test loss 1.0217, test acc 0.574, time 0.0 sec\n"
          ]
        },
        {
          "output_type": "display_data",
          "data": {
            "text/plain": [
              "<Figure size 640x480 with 1 Axes>"
            ],
            "image/png": "[encoded data removed]"
          },
          "metadata": {}
        }
      ]
    },
    {
      "cell_type": "markdown",
      "metadata": {
        "id": "IDaRVNq1aMpm"
      },
      "source": [
        "# Problema 2\n",
        "\n",
        "Neste problema, você receberá 90 *features* extraídas de diversas músicas (datadas de 1922 até 2011) e deve predizer o ano de cada música. Mais sobre esse dataset aqui: https://archive.ics.uci.edu/ml/datasets/YearPredictionMSD"
      ]
    },
    {
      "cell_type": "code",
      "metadata": {
        "id": "CWdBT3zhW_Y5",
        "colab": {
          "base_uri": "https://localhost:8080/"
        },
        "outputId": "a823df6e-6816-4d5e-b35c-9b4e422f7a25"
      },
      "source": [
        "# download do dataset\n",
        "!wget http://archive.ics.uci.edu/ml/machine-learning-databases/00203/YearPredictionMSD.txt.zip\n",
        "!unzip YearPredictionMSD.txt.zip\n",
        "data = np.genfromtxt('YearPredictionMSD.txt', delimiter=',', dtype=np.float32)\n",
        "\n",
        "print(data[0, :])\n",
        "X, y = data[:, 1:], data[:, 0]\n",
        "train_features, test_features, train_labels, test_labels = train_test_split(X, y, test_size=0.33, random_state=42)\n",
        "\n",
        "batch_size = 100\n",
        "train_iter = load_array(train_features, train_labels, batch_size)\n",
        "test_iter = load_array(test_features, test_labels, batch_size, False)"
      ],
      "execution_count": null,
      "outputs": [
        {
          "output_type": "stream",
          "name": "stdout",
          "text": [
            "--2025-05-19 12:56:30--  http://archive.ics.uci.edu/ml/machine-learning-databases/00203/YearPredictionMSD.txt.zip\n",
            "Resolving archive.ics.uci.edu (archive.ics.uci.edu)... 128.195.10.252\n",
            "Connecting to archive.ics.uci.edu (archive.ics.uci.edu)|128.195.10.252|:80... connected.\n",
            "HTTP request sent, awaiting response... 200 OK\n",
            "Length: unspecified\n",
            "Saving to: ‘YearPredictionMSD.txt.zip’\n",
            "\n",
            "YearPredictionMSD.t     [ <=>                ] 201.24M  25.4MB/s    in 9.4s    \n",
            "\n",
            "2025-05-19 12:56:39 (21.5 MB/s) - ‘YearPredictionMSD.txt.zip’ saved [211011981]\n",
            "\n",
            "Archive:  YearPredictionMSD.txt.zip\n",
            "  inflating: YearPredictionMSD.txt   \n",
            "[ 2.0010000e+03  4.9943569e+01  2.1471140e+01  7.3077499e+01\n",
            "  8.7486095e+00 -1.7406281e+01 -1.3099050e+01 -2.5012020e+01\n",
            " -1.2232570e+01  7.8308902e+00 -2.4678299e+00  3.3213601e+00\n",
            " -2.3152101e+00  1.0205560e+01  6.1110913e+02  9.5108960e+02\n",
            "  6.9811426e+02  4.0898486e+02  3.8370911e+02  3.2651511e+02\n",
            "  2.3811327e+02  2.5142413e+02  1.8717351e+02  1.0042652e+02\n",
            "  1.7919498e+02 -8.4155798e+00 -3.1787039e+02  9.5862663e+01\n",
            "  4.8102589e+01 -9.5663033e+01 -1.8062149e+01  1.9698400e+00\n",
            "  3.4424381e+01  1.1726700e+01  1.3679000e+00  7.7944398e+00\n",
            " -3.6994001e-01 -1.3367851e+02 -8.3261650e+01 -3.7297649e+01\n",
            "  7.3046669e+01 -3.7366840e+01 -3.1385300e+00 -2.4215309e+01\n",
            " -1.3230660e+01  1.5938090e+01 -1.8604780e+01  8.2154793e+01\n",
            "  2.4057980e+02 -1.0294070e+01  3.1584311e+01 -2.5381870e+01\n",
            " -3.9077201e+00  1.3292580e+01  4.1550598e+01 -7.2627201e+00\n",
            " -2.1008631e+01  1.0550848e+02  6.4298561e+01  2.6084810e+01\n",
            " -4.4591099e+01 -8.3065701e+00  7.9370599e+00 -1.0736600e+01\n",
            " -9.5447662e+01 -8.2033073e+01 -3.5591942e+01  4.6952500e+00\n",
            "  7.0956261e+01  2.8091391e+01  6.0201502e+00 -3.7137669e+01\n",
            " -4.1124500e+01 -8.4081602e+00  7.1987700e+00 -8.6017599e+00\n",
            " -5.9085698e+00 -1.2324370e+01  1.4687340e+01 -5.4321251e+01\n",
            "  4.0147861e+01  1.3016200e+01 -5.4405479e+01  5.8993671e+01\n",
            "  1.5373440e+01  1.1114399e+00 -2.3087931e+01  6.8407951e+01\n",
            " -1.8222300e+00 -2.7463480e+01  2.2632699e+00]\n"
          ]
        }
      ]
    },
    {
      "cell_type": "code",
      "source": [
        "scaler = StandardScaler()\n",
        "\n",
        "train_features, test_features, train_labels, test_labels = train_test_split(X, y, test_size=0.10, random_state=42)\n",
        "\n",
        "train_features = scaler.fit_transform(train_features)\n",
        "test_features = scaler.transform(test_features)\n",
        "\n",
        "train_iter = load_array(train_features, train_labels, batch_size)\n",
        "test_iter = load_array(test_features, test_labels, batch_size, False)"
      ],
      "metadata": {
        "id": "IqUZDTQa-Gtg"
      },
      "execution_count": null,
      "outputs": []
    },
    {
      "cell_type": "code",
      "source": [
        "print(train_features.shape, train_labels.shape)\n",
        "print(test_features.shape, test_labels.shape)"
      ],
      "metadata": {
        "colab": {
          "base_uri": "https://localhost:8080/"
        },
        "id": "8QyGg3ET-17G",
        "outputId": "4d85b890-bab0-44e9-be64-d0784cc5c9a9"
      },
      "execution_count": null,
      "outputs": [
        {
          "output_type": "stream",
          "name": "stdout",
          "text": [
            "(463810, 90) (463810,)\n",
            "(51535, 90) (51535,)\n"
          ]
        }
      ]
    },
    {
      "cell_type": "code",
      "metadata": {
        "id": "VoHCfAjzft_3",
        "colab": {
          "base_uri": "https://localhost:8080/",
          "height": 798
        },
        "outputId": "93c46725-2644-4b01-feb0-e3872f1923c0"
      },
      "source": [
        "# IMPLEMENTE AQUI\n",
        "\n",
        "class normalizaAno(nn.Module):\n",
        "    def __init__(self, min_year=1922, max_year=2011):\n",
        "        super().__init__()\n",
        "        self.min_year = min_year\n",
        "        self.range = max_year - min_year\n",
        "\n",
        "    def forward(self, x):\n",
        "        return x * self.range + self.min_year\n",
        "\n",
        "lr = 0.00001\n",
        "epocas = 10\n",
        "dropout = 0.0\n",
        "weight_dc = 0.0000000\n",
        "\n",
        "net = nn.Sequential(\n",
        "    nn.Linear(90, 64),\n",
        "    nn.BatchNorm1d(64),\n",
        "    nn.LeakyReLU(),\n",
        "    nn.Dropout(dropout),\n",
        "    nn.Linear(64, 32),\n",
        "    nn.BatchNorm1d(32),\n",
        "    nn.LeakyReLU(),\n",
        "    nn.Dropout(dropout),\n",
        "    nn.Linear(32, 1),\n",
        "    nn.Sigmoid(),\n",
        "    normalizaAno(1922, 2011)\n",
        ").to(device)\n",
        "\n",
        "net.apply(weights_init)\n",
        "\n",
        "loss = nn.MSELoss()\n",
        "opt = torch.optim.Adam(net.parameters(), lr=lr, weight_decay=weight_dc)\n",
        "\n",
        "train_validate(net, train_iter, test_iter, opt, loss, num_epochs=epocas, type='regression')"
      ],
      "execution_count": null,
      "outputs": [
        {
          "output_type": "stream",
          "name": "stdout",
          "text": [
            "training on cpu\n"
          ]
        },
        {
          "output_type": "stream",
          "name": "stderr",
          "text": [
            "/usr/local/lib/python3.11/dist-packages/torch/nn/modules/loss.py:610: UserWarning: Using a target size (torch.Size([100])) that is different to the input size (torch.Size([100, 1])). This will likely lead to incorrect results due to broadcasting. Please ensure they have the same size.\n",
            "  return F.mse_loss(input, target, reduction=self.reduction)\n",
            "/usr/local/lib/python3.11/dist-packages/torch/nn/modules/loss.py:610: UserWarning: Using a target size (torch.Size([10])) that is different to the input size (torch.Size([10, 1])). This will likely lead to incorrect results due to broadcasting. Please ensure they have the same size.\n",
            "  return F.mse_loss(input, target, reduction=self.reduction)\n",
            "/usr/local/lib/python3.11/dist-packages/torch/nn/modules/loss.py:610: UserWarning: Using a target size (torch.Size([35])) that is different to the input size (torch.Size([35, 1])). This will likely lead to incorrect results due to broadcasting. Please ensure they have the same size.\n",
            "  return F.mse_loss(input, target, reduction=self.reduction)\n"
          ]
        },
        {
          "output_type": "stream",
          "name": "stdout",
          "text": [
            "epoch 1, train loss 747.5259, test loss 423.6084, time 15.6 sec\n",
            "epoch 2, train loss 124.8945, test loss 119.2330, time 16.1 sec\n",
            "epoch 3, train loss 120.5463, test loss 118.2309, time 15.2 sec\n",
            "epoch 4, train loss 119.9898, test loss 117.9722, time 15.3 sec\n",
            "epoch 5, train loss 119.8369, test loss 117.8713, time 15.1 sec\n",
            "epoch 6, train loss 119.8447, test loss 117.8536, time 15.2 sec\n",
            "epoch 7, train loss 119.7637, test loss 117.8238, time 16.1 sec\n",
            "epoch 8, train loss 119.7322, test loss 117.8246, time 15.2 sec\n",
            "epoch 9, train loss 119.7226, test loss 117.7959, time 15.2 sec\n",
            "epoch 10, train loss 119.7430, test loss 117.8170, time 15.1 sec\n"
          ]
        },
        {
          "output_type": "display_data",
          "data": {
            "text/plain": [
              "<Figure size 640x480 with 1 Axes>"
            ],
            "image/png": "[encoded data removed]"
          },
          "metadata": {}
        }
      ]
    },
    {
      "cell_type": "code",
      "metadata": {
        "id": "wNMAyyX8jSb8",
        "colab": {
          "base_uri": "https://localhost:8080/"
        },
        "outputId": "1a0ac14d-c138-4870-fdc2-d5ee2e369349"
      },
      "source": [
        "# mostra o resultado predito para as 5 primeiras instâncias de teste\n",
        "y = net(torch.Tensor(test_features[0:5, :]).to(device))\n",
        "print(y, test_labels[0:5])"
      ],
      "execution_count": null,
      "outputs": [
        {
          "output_type": "stream",
          "name": "stdout",
          "text": [
            "tensor([[1998.0905],\n",
            "        [1998.2203],\n",
            "        [1998.2701],\n",
            "        [1998.1216],\n",
            "        [1998.4409]], grad_fn=<AddBackward0>) [2008. 2001. 2006. 2008. 1998.]\n"
          ]
        }
      ]
    },
    {
      "cell_type": "markdown",
      "metadata": {
        "id": "Pd8hG7HCDUib"
      },
      "source": [
        "# Problema 3\n",
        "\n",
        "Neste problema, você receberá várias *features* (como altura média, inclinação, etc) descrevendo uma região e o modelo deve predizer qual o tipo da região (floresta, montanha, etc). Mais informações sobre esse dataset aqui: https://archive.ics.uci.edu/ml/datasets/covertype"
      ]
    },
    {
      "cell_type": "code",
      "metadata": {
        "id": "IZcIXGqBDznB",
        "colab": {
          "base_uri": "https://localhost:8080/"
        },
        "outputId": "5ed63a24-32ac-42d2-c23d-432cec7bffe3"
      },
      "source": [
        "!wget http://archive.ics.uci.edu/ml/machine-learning-databases/covtype/covtype.data.gz\n",
        "!gzip covtype.data.gz\n",
        "data = np.genfromtxt('covtype.data', delimiter=',', dtype=np.float32)\n",
        "\n",
        "print(data.shape, data[0, :])\n",
        "X, y = data[:, :-1], data[:, -1]\n",
        "print(X.shape, X[0, :])\n",
        "print(y.shape, y[0])\n",
        "train_features, test_features, train_labels, test_labels = train_test_split(X, y, test_size=0.33, random_state=42)\n",
        "train_labels = train_labels - 1\n",
        "test_labels = test_labels - 1\n",
        "\n",
        "batch_size = 100\n",
        "train_iter = load_array(train_features, train_labels, batch_size)\n",
        "test_iter = load_array(test_features, test_labels, batch_size, False)"
      ],
      "execution_count": null,
      "outputs": [
        {
          "output_type": "stream",
          "name": "stdout",
          "text": [
            "--2025-05-19 13:00:06--  http://archive.ics.uci.edu/ml/machine-learning-databases/covtype/covtype.data.gz\n",
            "Resolving archive.ics.uci.edu (archive.ics.uci.edu)... 128.195.10.252\n",
            "Connecting to archive.ics.uci.edu (archive.ics.uci.edu)|128.195.10.252|:80... connected.\n",
            "HTTP request sent, awaiting response... 200 OK\n",
            "Length: unspecified\n",
            "Saving to: ‘covtype.data.gz’\n",
            "\n",
            "covtype.data.gz         [      <=>           ]  10.72M  7.35MB/s    in 1.5s    \n",
            "\n",
            "2025-05-19 13:00:08 (7.35 MB/s) - ‘covtype.data.gz’ saved [11240707]\n",
            "\n",
            "gzip: covtype.data.gz already has .gz suffix -- unchanged\n",
            "(581012, 55) [2.596e+03 5.100e+01 3.000e+00 2.580e+02 0.000e+00 5.100e+02 2.210e+02\n",
            " 2.320e+02 1.480e+02 6.279e+03 1.000e+00 0.000e+00 0.000e+00 0.000e+00\n",
            " 0.000e+00 0.000e+00 0.000e+00 0.000e+00 0.000e+00 0.000e+00 0.000e+00\n",
            " 0.000e+00 0.000e+00 0.000e+00 0.000e+00 0.000e+00 0.000e+00 0.000e+00\n",
            " 0.000e+00 0.000e+00 0.000e+00 0.000e+00 0.000e+00 0.000e+00 0.000e+00\n",
            " 0.000e+00 0.000e+00 0.000e+00 0.000e+00 0.000e+00 0.000e+00 0.000e+00\n",
            " 1.000e+00 0.000e+00 0.000e+00 0.000e+00 0.000e+00 0.000e+00 0.000e+00\n",
            " 0.000e+00 0.000e+00 0.000e+00 0.000e+00 0.000e+00 5.000e+00]\n",
            "(581012, 54) [2.596e+03 5.100e+01 3.000e+00 2.580e+02 0.000e+00 5.100e+02 2.210e+02\n",
            " 2.320e+02 1.480e+02 6.279e+03 1.000e+00 0.000e+00 0.000e+00 0.000e+00\n",
            " 0.000e+00 0.000e+00 0.000e+00 0.000e+00 0.000e+00 0.000e+00 0.000e+00\n",
            " 0.000e+00 0.000e+00 0.000e+00 0.000e+00 0.000e+00 0.000e+00 0.000e+00\n",
            " 0.000e+00 0.000e+00 0.000e+00 0.000e+00 0.000e+00 0.000e+00 0.000e+00\n",
            " 0.000e+00 0.000e+00 0.000e+00 0.000e+00 0.000e+00 0.000e+00 0.000e+00\n",
            " 1.000e+00 0.000e+00 0.000e+00 0.000e+00 0.000e+00 0.000e+00 0.000e+00\n",
            " 0.000e+00 0.000e+00 0.000e+00 0.000e+00 0.000e+00]\n",
            "(581012,) 5.0\n"
          ]
        }
      ]
    },
    {
      "cell_type": "code",
      "source": [
        "scaler = StandardScaler()\n",
        "\n",
        "train_features, test_features, train_labels, test_labels = train_test_split(X, y, test_size=0.20, random_state=42)\n",
        "\n",
        "train_features = scaler.fit_transform(train_features)\n",
        "test_features = scaler.transform(test_features)\n",
        "\n",
        "train_labels = train_labels - 1\n",
        "test_labels = test_labels - 1\n",
        "\n",
        "train_iter = load_array(train_features, train_labels, batch_size)\n",
        "test_iter = load_array(test_features, test_labels, batch_size, False)"
      ],
      "metadata": {
        "id": "1HYRJaVh9_e_"
      },
      "execution_count": null,
      "outputs": []
    },
    {
      "cell_type": "code",
      "source": [
        "labels =[]\n",
        "\n",
        "for i in y:\n",
        "  if i not in labels:\n",
        "    labels.append(i)\n",
        "\n",
        "labels.sort()\n",
        "print(labels)"
      ],
      "metadata": {
        "colab": {
          "base_uri": "https://localhost:8080/"
        },
        "id": "iz5YxuzRzz5J",
        "outputId": "6a5bc90b-794a-4f45-b57c-0006102439a6"
      },
      "execution_count": null,
      "outputs": [
        {
          "output_type": "stream",
          "name": "stdout",
          "text": [
            "[np.float32(1.0), np.float32(2.0), np.float32(3.0), np.float32(4.0), np.float32(5.0), np.float32(6.0), np.float32(7.0)]\n"
          ]
        }
      ]
    },
    {
      "cell_type": "code",
      "metadata": {
        "id": "5O0HJVIOZZW4",
        "colab": {
          "base_uri": "https://localhost:8080/",
          "height": 671
        },
        "outputId": "6d23c1e7-cca1-4f77-bb66-ee0b2945bab7"
      },
      "source": [
        "# IMPLEMENTE AQUI\n",
        "\n",
        "lr = 0.005\n",
        "epocas = 10\n",
        "dropout = 0.5\n",
        "weight_dc = 0.00001\n",
        "\n",
        "net = nn.Sequential(\n",
        "    nn.Linear(54, 64),\n",
        "    nn.BatchNorm1d(64),\n",
        "    nn.LeakyReLU(),\n",
        "    nn.Dropout(dropout),\n",
        "    nn.Linear(64, 32),\n",
        "    nn.BatchNorm1d(32),\n",
        "    nn.LeakyReLU(),\n",
        "    nn.Dropout(dropout),\n",
        "    nn.Linear(32, 16),\n",
        "    nn.BatchNorm1d(16),\n",
        "    nn.LeakyReLU(),\n",
        "    nn.Dropout(dropout),\n",
        "    nn.Linear(16, 7)\n",
        ").to(device)\n",
        "\n",
        "net.apply(weights_init)\n",
        "\n",
        "loss = nn.CrossEntropyLoss()\n",
        "opt = torch.optim.Adam(net.parameters(), lr=lr, weight_decay=weight_dc)\n",
        "\n",
        "train_validate(net, train_iter, test_iter, opt, loss, num_epochs=epocas, type='classification')"
      ],
      "execution_count": null,
      "outputs": [
        {
          "output_type": "stream",
          "name": "stdout",
          "text": [
            "training on cpu\n",
            "epoch 1, train loss 0.7780, train acc 0.684, test loss 0.6425, test acc 0.744, time 19.6 sec\n",
            "epoch 2, train loss 0.5187, train acc 0.783, test loss 0.4599, test acc 0.804, time 18.2 sec\n",
            "epoch 3, train loss 0.4313, train acc 0.819, test loss 0.4181, test acc 0.823, time 18.3 sec\n",
            "epoch 4, train loss 0.3964, train acc 0.834, test loss 0.3848, test acc 0.840, time 18.4 sec\n",
            "epoch 5, train loss 0.3761, train acc 0.843, test loss 0.3709, test acc 0.846, time 17.5 sec\n",
            "epoch 6, train loss 0.3642, train acc 0.850, test loss 0.3533, test acc 0.853, time 18.4 sec\n",
            "epoch 7, train loss 0.3537, train acc 0.854, test loss 0.3533, test acc 0.854, time 17.5 sec\n",
            "epoch 8, train loss 0.3455, train acc 0.857, test loss 0.3480, test acc 0.857, time 17.4 sec\n",
            "epoch 9, train loss 0.3401, train acc 0.860, test loss 0.3371, test acc 0.862, time 18.4 sec\n",
            "epoch 10, train loss 0.3357, train acc 0.862, test loss 0.3366, test acc 0.864, time 17.4 sec\n"
          ]
        },
        {
          "output_type": "display_data",
          "data": {
            "text/plain": [
              "<Figure size 640x480 with 1 Axes>"
            ],
            "image/png": "[encoded data removed]"
          },
          "metadata": {}
        }
      ]
    },
    {
      "cell_type": "markdown",
      "metadata": {
        "id": "tOAxsRz0rpZl"
      },
      "source": [
        "# Problema 4\n",
        "\n",
        "Neste problema, você receberá 11 *features* extraídas de tipos de vinhos, e terá que predizer um *score* para cada vinho. Mais sobre esse dataset aqui: https://archive.ics.uci.edu/ml/datasets/Wine+Quality"
      ]
    },
    {
      "cell_type": "code",
      "metadata": {
        "id": "knTzA0O6rusi",
        "colab": {
          "base_uri": "https://localhost:8080/"
        },
        "outputId": "5e2c9db4-4f20-47c2-96ea-b058b265943e"
      },
      "source": [
        "# download do dataset\n",
        "!wget https://archive.ics.uci.edu/ml/machine-learning-databases/wine-quality/winequality-red.csv\n",
        "!wget https://archive.ics.uci.edu/ml/machine-learning-databases/wine-quality/winequality-white.csv\n",
        "data_red = np.genfromtxt('winequality-red.csv', delimiter=';', dtype=np.float32, skip_header=1)\n",
        "data_white = np.genfromtxt('winequality-white.csv', delimiter=';', dtype=np.float32, skip_header=1)\n",
        "data = np.concatenate((data_red, data_white), axis=0)\n",
        "data = np.nan_to_num(data)\n",
        "\n",
        "print(data[0, :])\n",
        "X, y = data[:, :-1], data[:, -1]\n",
        "print(X.shape, y.shape)\n",
        "train_features, test_features, train_labels, test_labels = train_test_split(X, y, test_size=0.33, random_state=42)\n",
        "\n",
        "batch_size = 100\n",
        "train_iter = load_array(train_features, train_labels, batch_size)\n",
        "test_iter = load_array(test_features, test_labels, batch_size, False)"
      ],
      "execution_count": null,
      "outputs": [
        {
          "output_type": "stream",
          "name": "stdout",
          "text": [
            "--2025-05-19 13:03:30--  https://archive.ics.uci.edu/ml/machine-learning-databases/wine-quality/winequality-red.csv\n",
            "Resolving archive.ics.uci.edu (archive.ics.uci.edu)... 128.195.10.252\n",
            "Connecting to archive.ics.uci.edu (archive.ics.uci.edu)|128.195.10.252|:443... connected.\n",
            "HTTP request sent, awaiting response... 200 OK\n",
            "Length: unspecified\n",
            "Saving to: ‘winequality-red.csv’\n",
            "\n",
            "winequality-red.csv     [  <=>               ]  82.23K   213KB/s    in 0.4s    \n",
            "\n",
            "2025-05-19 13:03:31 (213 KB/s) - ‘winequality-red.csv’ saved [84199]\n",
            "\n",
            "--2025-05-19 13:03:31--  https://archive.ics.uci.edu/ml/machine-learning-databases/wine-quality/winequality-white.csv\n",
            "Resolving archive.ics.uci.edu (archive.ics.uci.edu)... 128.195.10.252\n",
            "Connecting to archive.ics.uci.edu (archive.ics.uci.edu)|128.195.10.252|:443... connected.\n",
            "HTTP request sent, awaiting response... 200 OK\n",
            "Length: unspecified\n",
            "Saving to: ‘winequality-white.csv’\n",
            "\n",
            "winequality-white.c     [   <=>              ] 258.23K   500KB/s    in 0.5s    \n",
            "\n",
            "2025-05-19 13:03:32 (500 KB/s) - ‘winequality-white.csv’ saved [264426]\n",
            "\n",
            "[ 7.4     0.7     0.      1.9     0.076  11.     34.      0.9978  3.51\n",
            "  0.56    9.4     5.    ]\n",
            "(6497, 11) (6497,)\n"
          ]
        }
      ]
    },
    {
      "cell_type": "code",
      "source": [
        "scaler = StandardScaler()\n",
        "\n",
        "train_features, test_features, train_labels, test_labels = train_test_split(X, y, test_size=0.20, random_state=42)\n",
        "\n",
        "train_features = scaler.fit_transform(train_features)\n",
        "test_features = scaler.transform(test_features)\n",
        "\n",
        "train_labels = train_labels - 3\n",
        "test_labels = test_labels - 3\n",
        "\n",
        "train_iter = load_array(train_features, train_labels, batch_size)\n",
        "test_iter = load_array(test_features, test_labels, batch_size, False)"
      ],
      "metadata": {
        "id": "Mhoi9uNy8cYH"
      },
      "execution_count": null,
      "outputs": []
    },
    {
      "cell_type": "code",
      "metadata": {
        "id": "9E7pwns4rx9l",
        "colab": {
          "base_uri": "https://localhost:8080/",
          "height": 1000
        },
        "outputId": "acd91a01-e746-49dc-84ec-6a669a4532e9"
      },
      "source": [
        "# IMPLEMENTE AQUI\n",
        "\n",
        "lr = 0.00005\n",
        "epocas = 100\n",
        "dropout = 0.8\n",
        "weight_dc = 0.05\n",
        "\n",
        "net = nn.Sequential(\n",
        "    nn.Linear(11, 128),\n",
        "    nn.BatchNorm1d(128),\n",
        "    nn.LeakyReLU(),\n",
        "    nn.Dropout(dropout),\n",
        "    nn.Linear(128, 64),\n",
        "    nn.BatchNorm1d(64),\n",
        "    nn.LeakyReLU(),\n",
        "    nn.Dropout(dropout),\n",
        "    nn.Linear(64, 32),\n",
        "    nn.BatchNorm1d(32),\n",
        "    nn.LeakyReLU(),\n",
        "    nn.Dropout(dropout),\n",
        "    nn.Linear(32, 16),\n",
        "    nn.BatchNorm1d(16),\n",
        "    nn.LeakyReLU(),\n",
        "    nn.Dropout(dropout),\n",
        "    nn.Linear(16, 7)\n",
        ").to(device)\n",
        "\n",
        "net.apply(weights_init)\n",
        "\n",
        "loss = nn.CrossEntropyLoss()\n",
        "opt = torch.optim.Adam(net.parameters(), lr=lr, weight_decay=weight_dc)\n",
        "\n",
        "train_validate(net, train_iter, test_iter, opt, loss, num_epochs=epocas, type='classification')"
      ],
      "execution_count": null,
      "outputs": [
        {
          "output_type": "stream",
          "name": "stdout",
          "text": [
            "training on cpu\n",
            "epoch 1, train loss 1.9367, train acc 0.245, test loss 1.9386, test acc 0.459, time 0.3 sec\n",
            "epoch 2, train loss 1.9333, train acc 0.431, test loss 1.9263, test acc 0.459, time 0.2 sec\n",
            "epoch 3, train loss 1.9184, train acc 0.431, test loss 1.9067, test acc 0.459, time 0.2 sec\n",
            "epoch 4, train loss 1.8832, train acc 0.431, test loss 1.8374, test acc 0.459, time 0.2 sec\n",
            "epoch 5, train loss 1.6688, train acc 0.431, test loss 1.3847, test acc 0.459, time 0.2 sec\n",
            "epoch 6, train loss 1.3075, train acc 0.431, test loss 1.2722, test acc 0.459, time 0.2 sec\n",
            "epoch 7, train loss 1.2795, train acc 0.431, test loss 1.2643, test acc 0.459, time 0.2 sec\n",
            "epoch 8, train loss 1.2717, train acc 0.431, test loss 1.2556, test acc 0.459, time 0.2 sec\n",
            "epoch 9, train loss 1.2668, train acc 0.431, test loss 1.2525, test acc 0.459, time 0.2 sec\n",
            "epoch 10, train loss 1.2632, train acc 0.431, test loss 1.2493, test acc 0.459, time 0.2 sec\n",
            "epoch 11, train loss 1.2598, train acc 0.431, test loss 1.2467, test acc 0.459, time 0.2 sec\n",
            "epoch 12, train loss 1.2570, train acc 0.431, test loss 1.2442, test acc 0.459, time 0.2 sec\n",
            "epoch 13, train loss 1.2532, train acc 0.431, test loss 1.2387, test acc 0.459, time 0.2 sec\n",
            "epoch 14, train loss 1.2475, train acc 0.443, test loss 1.2332, test acc 0.494, time 0.2 sec\n",
            "epoch 15, train loss 1.2364, train acc 0.500, test loss 1.2159, test acc 0.505, time 0.2 sec\n",
            "epoch 16, train loss 1.2111, train acc 0.507, test loss 1.1886, test acc 0.509, time 0.2 sec\n",
            "epoch 17, train loss 1.1685, train acc 0.525, test loss 1.1495, test acc 0.518, time 0.2 sec\n",
            "epoch 18, train loss 1.1286, train acc 0.542, test loss 1.1184, test acc 0.530, time 0.2 sec\n",
            "epoch 19, train loss 1.1071, train acc 0.542, test loss 1.1157, test acc 0.531, time 0.2 sec\n",
            "epoch 20, train loss 1.0938, train acc 0.541, test loss 1.1022, test acc 0.528, time 0.2 sec\n",
            "epoch 21, train loss 1.0821, train acc 0.545, test loss 1.0932, test acc 0.530, time 0.2 sec\n",
            "epoch 22, train loss 1.0730, train acc 0.545, test loss 1.0912, test acc 0.534, time 0.2 sec\n",
            "epoch 23, train loss 1.0668, train acc 0.548, test loss 1.0806, test acc 0.534, time 0.2 sec\n",
            "epoch 24, train loss 1.0627, train acc 0.548, test loss 1.0744, test acc 0.535, time 0.2 sec\n",
            "epoch 25, train loss 1.0580, train acc 0.551, test loss 1.0678, test acc 0.545, time 0.2 sec\n",
            "epoch 26, train loss 1.0536, train acc 0.556, test loss 1.0662, test acc 0.555, time 0.2 sec\n",
            "epoch 27, train loss 1.0495, train acc 0.561, test loss 1.0679, test acc 0.558, time 0.2 sec\n",
            "epoch 28, train loss 1.0451, train acc 0.565, test loss 1.0633, test acc 0.553, time 0.2 sec\n",
            "epoch 29, train loss 1.0428, train acc 0.564, test loss 1.0549, test acc 0.558, time 0.2 sec\n",
            "epoch 30, train loss 1.0396, train acc 0.563, test loss 1.0577, test acc 0.553, time 0.2 sec\n",
            "epoch 31, train loss 1.0363, train acc 0.562, test loss 1.0541, test acc 0.559, time 0.2 sec\n",
            "epoch 32, train loss 1.0344, train acc 0.565, test loss 1.0507, test acc 0.557, time 0.2 sec\n",
            "epoch 33, train loss 1.0302, train acc 0.566, test loss 1.0483, test acc 0.556, time 0.2 sec\n",
            "epoch 34, train loss 1.0294, train acc 0.566, test loss 1.0470, test acc 0.559, time 0.2 sec\n",
            "epoch 35, train loss 1.0281, train acc 0.561, test loss 1.0472, test acc 0.558, time 0.2 sec\n",
            "epoch 36, train loss 1.0239, train acc 0.566, test loss 1.0429, test acc 0.561, time 0.2 sec\n",
            "epoch 37, train loss 1.0223, train acc 0.567, test loss 1.0420, test acc 0.555, time 0.3 sec\n",
            "epoch 38, train loss 1.0200, train acc 0.571, test loss 1.0411, test acc 0.556, time 0.3 sec\n",
            "epoch 39, train loss 1.0201, train acc 0.567, test loss 1.0366, test acc 0.557, time 0.3 sec\n",
            "epoch 40, train loss 1.0179, train acc 0.566, test loss 1.0364, test acc 0.558, time 0.3 sec\n",
            "epoch 41, train loss 1.0145, train acc 0.571, test loss 1.0358, test acc 0.562, time 0.3 sec\n",
            "epoch 42, train loss 1.0154, train acc 0.571, test loss 1.0382, test acc 0.550, time 0.3 sec\n",
            "epoch 43, train loss 1.0105, train acc 0.570, test loss 1.0385, test acc 0.556, time 0.4 sec\n",
            "epoch 44, train loss 1.0113, train acc 0.573, test loss 1.0346, test acc 0.555, time 0.4 sec\n",
            "epoch 45, train loss 1.0081, train acc 0.574, test loss 1.0392, test acc 0.552, time 0.3 sec\n",
            "epoch 46, train loss 1.0069, train acc 0.569, test loss 1.0310, test acc 0.557, time 0.2 sec\n",
            "epoch 47, train loss 1.0046, train acc 0.575, test loss 1.0295, test acc 0.566, time 0.2 sec\n",
            "epoch 48, train loss 1.0043, train acc 0.575, test loss 1.0297, test acc 0.552, time 0.2 sec\n",
            "epoch 49, train loss 1.0027, train acc 0.575, test loss 1.0302, test acc 0.557, time 0.2 sec\n",
            "epoch 50, train loss 1.0011, train acc 0.573, test loss 1.0268, test acc 0.556, time 0.2 sec\n",
            "epoch 51, train loss 1.0012, train acc 0.574, test loss 1.0340, test acc 0.556, time 0.2 sec\n",
            "epoch 52, train loss 1.0010, train acc 0.573, test loss 1.0302, test acc 0.559, time 0.2 sec\n",
            "epoch 53, train loss 0.9972, train acc 0.572, test loss 1.0270, test acc 0.554, time 0.2 sec\n",
            "epoch 54, train loss 0.9969, train acc 0.577, test loss 1.0416, test acc 0.545, time 0.2 sec\n",
            "epoch 55, train loss 0.9967, train acc 0.574, test loss 1.0276, test acc 0.555, time 0.2 sec\n",
            "epoch 56, train loss 0.9951, train acc 0.573, test loss 1.0262, test acc 0.555, time 0.2 sec\n",
            "epoch 57, train loss 0.9944, train acc 0.579, test loss 1.0277, test acc 0.554, time 0.2 sec\n",
            "epoch 58, train loss 0.9933, train acc 0.573, test loss 1.0259, test acc 0.562, time 0.2 sec\n",
            "epoch 59, train loss 0.9925, train acc 0.576, test loss 1.0239, test acc 0.558, time 0.2 sec\n",
            "epoch 60, train loss 0.9913, train acc 0.576, test loss 1.0301, test acc 0.545, time 0.2 sec\n",
            "epoch 61, train loss 0.9899, train acc 0.578, test loss 1.0226, test acc 0.558, time 0.2 sec\n",
            "epoch 62, train loss 0.9903, train acc 0.575, test loss 1.0227, test acc 0.565, time 0.2 sec\n",
            "epoch 63, train loss 0.9887, train acc 0.577, test loss 1.0252, test acc 0.553, time 0.2 sec\n",
            "epoch 64, train loss 0.9899, train acc 0.577, test loss 1.0247, test acc 0.550, time 0.2 sec\n",
            "epoch 65, train loss 0.9883, train acc 0.573, test loss 1.0214, test acc 0.562, time 0.2 sec\n",
            "epoch 66, train loss 0.9879, train acc 0.579, test loss 1.0224, test acc 0.562, time 0.2 sec\n",
            "epoch 67, train loss 0.9881, train acc 0.580, test loss 1.0296, test acc 0.546, time 0.2 sec\n",
            "epoch 68, train loss 0.9862, train acc 0.580, test loss 1.0198, test acc 0.564, time 0.2 sec\n",
            "epoch 69, train loss 0.9851, train acc 0.578, test loss 1.0215, test acc 0.557, time 0.2 sec\n",
            "epoch 70, train loss 0.9850, train acc 0.579, test loss 1.0204, test acc 0.562, time 0.2 sec\n",
            "epoch 71, train loss 0.9839, train acc 0.578, test loss 1.0207, test acc 0.561, time 0.2 sec\n",
            "epoch 72, train loss 0.9832, train acc 0.580, test loss 1.0228, test acc 0.552, time 0.2 sec\n",
            "epoch 73, train loss 0.9829, train acc 0.581, test loss 1.0214, test acc 0.558, time 0.2 sec\n",
            "epoch 74, train loss 0.9819, train acc 0.582, test loss 1.0178, test acc 0.563, time 0.2 sec\n",
            "epoch 75, train loss 0.9803, train acc 0.584, test loss 1.0206, test acc 0.557, time 0.2 sec\n",
            "epoch 76, train loss 0.9803, train acc 0.581, test loss 1.0185, test acc 0.563, time 0.2 sec\n",
            "epoch 77, train loss 0.9812, train acc 0.582, test loss 1.0264, test acc 0.547, time 0.2 sec\n",
            "epoch 78, train loss 0.9794, train acc 0.585, test loss 1.0210, test acc 0.554, time 0.2 sec\n",
            "epoch 79, train loss 0.9795, train acc 0.587, test loss 1.0242, test acc 0.556, time 0.2 sec\n",
            "epoch 80, train loss 0.9806, train acc 0.582, test loss 1.0223, test acc 0.555, time 0.2 sec\n",
            "epoch 81, train loss 0.9787, train acc 0.584, test loss 1.0221, test acc 0.556, time 0.2 sec\n",
            "epoch 82, train loss 0.9776, train acc 0.587, test loss 1.0189, test acc 0.557, time 0.2 sec\n",
            "epoch 83, train loss 0.9795, train acc 0.585, test loss 1.0225, test acc 0.558, time 0.2 sec\n",
            "epoch 84, train loss 0.9761, train acc 0.586, test loss 1.0220, test acc 0.552, time 0.2 sec\n",
            "epoch 85, train loss 0.9751, train acc 0.582, test loss 1.0188, test acc 0.562, time 0.2 sec\n",
            "epoch 86, train loss 0.9757, train acc 0.584, test loss 1.0178, test acc 0.563, time 0.2 sec\n",
            "epoch 87, train loss 0.9749, train acc 0.589, test loss 1.0172, test acc 0.561, time 0.2 sec\n",
            "epoch 88, train loss 0.9759, train acc 0.587, test loss 1.0171, test acc 0.561, time 0.2 sec\n",
            "epoch 89, train loss 0.9739, train acc 0.588, test loss 1.0181, test acc 0.558, time 0.3 sec\n",
            "epoch 90, train loss 0.9744, train acc 0.586, test loss 1.0154, test acc 0.560, time 0.3 sec\n",
            "epoch 91, train loss 0.9726, train acc 0.589, test loss 1.0149, test acc 0.562, time 0.3 sec\n",
            "epoch 92, train loss 0.9728, train acc 0.587, test loss 1.0185, test acc 0.558, time 0.3 sec\n",
            "epoch 93, train loss 0.9722, train acc 0.588, test loss 1.0160, test acc 0.563, time 0.3 sec\n",
            "epoch 94, train loss 0.9722, train acc 0.590, test loss 1.0186, test acc 0.555, time 0.4 sec\n",
            "epoch 95, train loss 0.9711, train acc 0.589, test loss 1.0146, test acc 0.558, time 0.4 sec\n",
            "epoch 96, train loss 0.9702, train acc 0.588, test loss 1.0164, test acc 0.556, time 0.4 sec\n",
            "epoch 97, train loss 0.9707, train acc 0.588, test loss 1.0210, test acc 0.562, time 0.3 sec\n",
            "epoch 98, train loss 0.9707, train acc 0.589, test loss 1.0174, test acc 0.559, time 0.2 sec\n",
            "epoch 99, train loss 0.9704, train acc 0.586, test loss 1.0134, test acc 0.561, time 0.2 sec\n",
            "epoch 100, train loss 0.9690, train acc 0.587, test loss 1.0215, test acc 0.559, time 0.2 sec\n"
          ]
        },
        {
          "output_type": "display_data",
          "data": {
            "text/plain": [
              "<Figure size 640x480 with 1 Axes>"
            ],
            "image/png": "[encoded data removed]"
          },
          "metadata": {}
        }
      ]
    },
    {
      "cell_type": "code",
      "metadata": {
        "id": "-At99Iqzryg8",
        "colab": {
          "base_uri": "https://localhost:8080/"
        },
        "outputId": "73b217ae-cc10-451a-ff63-d6008d2f1448"
      },
      "source": [
        "# mostra o resultado predito para as 5 primeiras instâncias de teste\n",
        "y = net(torch.Tensor(test_features[0:5, :]).to(device))\n",
        "print(y, test_labels[0:5])"
      ],
      "execution_count": null,
      "outputs": [
        {
          "output_type": "stream",
          "name": "stdout",
          "text": [
            "tensor([[-4.2929, -2.8673,  0.2620,  2.3331,  1.5557, -0.6409, -4.7156],\n",
            "        [-1.6645,  0.8486,  2.6674,  0.7798, -2.9610, -5.4774, -6.2572],\n",
            "        [-3.4075, -2.7320, -0.6960,  1.8112,  2.3114,  1.1110, -2.4445],\n",
            "        [-3.4503, -1.2229,  1.9998,  1.8543, -1.0116, -3.8403, -6.4979],\n",
            "        [-2.4431, -0.1378,  2.3954,  1.2705, -2.0557, -4.6871, -6.2567]],\n",
            "       grad_fn=<AddmmBackward0>) [5. 2. 4. 3. 3.]\n"
          ]
        }
      ]
    }
  ]
}