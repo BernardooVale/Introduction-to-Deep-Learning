{
  "cells": [
    {
      "cell_type": "markdown",
      "source": [
        "# **Bernardo Vale dos Santos Bento**\n",
        "\n",
        "2023002065"
      ],
      "metadata": {
        "id": "ZZQdmkttjbbm"
      }
    },
    {
      "cell_type": "markdown",
      "metadata": {
        "id": "QRV_7PdLIXhh"
      },
      "source": [
        "# Prática: Redes Neurais Convolucionais\n",
        "\n",
        "Vamos agora implementar a rede [AlexNet](https://papers.nips.cc/paper/4824-imagenet-classification-with-deep-convolutional-neural-networks.pdf), uma das redes que trouxeram todo esse interesse para a área de *deep learning*.\n",
        "\n",
        "\n",
        "\n"
      ]
    },
    {
      "cell_type": "code",
      "execution_count": null,
      "metadata": {
        "id": "EAgvY5eBIc1s"
      },
      "outputs": [],
      "source": [
        "import time, os, sys, numpy as np\n",
        "import torch\n",
        "import torchvision\n",
        "import torch.nn as nn\n",
        "import torch.nn.functional as F\n",
        "\n",
        "from torch import optim\n",
        "from torchsummary import summary\n",
        "\n",
        "\n",
        "import time, os, sys, numpy as np\n",
        "\n",
        "# Test if GPU is avaliable, if not, use cpu instead\n",
        "device = torch.device('cuda' if torch.cuda.is_available() else 'cpu')\n",
        "n = torch.cuda.device_count()\n",
        "devices_ids= list(range(n))"
      ]
    },
    {
      "cell_type": "code",
      "execution_count": null,
      "metadata": {
        "id": "Xru0TyJXIjGp"
      },
      "outputs": [],
      "source": [
        "def load_data_cifar10(batch_size, resize=None, root=os.path.join(\n",
        "        '~', '.pytorch', 'datasets', 'cifar10')):\n",
        "    \"\"\"Download the Cifar10 dataset and then load into memory.\"\"\"\n",
        "    root = os.path.expanduser(root)\n",
        "    transformer = []\n",
        "    if resize:\n",
        "        transformer += [torchvision.transforms.Resize(resize)]\n",
        "    transformer += [torchvision.transforms.ToTensor()]\n",
        "    transformer = torchvision.transforms.Compose(transformer)\n",
        "\n",
        "    mnist_train = torchvision.datasets.CIFAR10(root=root, train=True,download=True,transform=transformer)\n",
        "    mnist_test = torchvision.datasets.CIFAR10(root=root, train=False,download=True,transform=transformer)\n",
        "    num_workers = 0 if sys.platform.startswith('win32') else 4\n",
        "\n",
        "    train_iter = torch.utils.data.DataLoader(mnist_train,\n",
        "                                  batch_size, shuffle=True,\n",
        "                                  num_workers=num_workers)\n",
        "    test_iter = torch.utils.data.DataLoader(mnist_test,\n",
        "                                 batch_size, shuffle=False,\n",
        "                                 num_workers=num_workers)\n",
        "    return train_iter, test_iter\n",
        "\n",
        "\n",
        "# Função usada para calcular acurácia\n",
        "def evaluate_accuracy(data_iter, net, loss):\n",
        "    \"\"\"Evaluate accuracy of a model on the given data set.\"\"\"\n",
        "\n",
        "    acc_sum, n, l = torch.Tensor([0]), 0, 0\n",
        "    net.eval()\n",
        "    with torch.no_grad():\n",
        "      for X, y in data_iter:\n",
        "          X, y = X.to(device), y.to(device)\n",
        "          y_hat = net(X)\n",
        "          l += loss(y_hat, y).sum()\n",
        "          acc_sum += (y_hat.argmax(axis=1) == y).sum().item()\n",
        "          n += y.size()[0]\n",
        "\n",
        "    return acc_sum.item() / n, l.item() / len(data_iter)\n",
        "\n",
        "# Função usada no treinamento e validação da rede\n",
        "def train_validate(net, train_iter, test_iter, batch_size, trainer, loss,\n",
        "                   num_epochs):\n",
        "    print('training on', device)\n",
        "    for epoch in range(num_epochs):\n",
        "        net.train()\n",
        "        train_l_sum, train_acc_sum, n, start = 0.0, 0.0, 0, time.time()\n",
        "        for X, y in train_iter:\n",
        "            X, y = X.to(device), y.to(device)\n",
        "            y_hat = net(X)\n",
        "            trainer.zero_grad()\n",
        "            l = loss(y_hat, y).sum()\n",
        "            l.backward()\n",
        "            trainer.step()\n",
        "            train_l_sum += l.item()\n",
        "            train_acc_sum += (y_hat.argmax(axis=1) == y).sum().item()\n",
        "            n += y.size()[0]\n",
        "        test_acc, test_loss = evaluate_accuracy(test_iter, net, loss)\n",
        "        print('epoch %d, train loss %.4f, train acc %.3f, test loss %.4f, '\n",
        "              'test acc %.3f, time %.1f sec'\n",
        "              % (epoch + 1, train_l_sum / len(train_iter), train_acc_sum / n, test_loss,\n",
        "                 test_acc, time.time() - start))"
      ]
    },
    {
      "cell_type": "markdown",
      "metadata": {
        "id": "TO6YizcSIpiH"
      },
      "source": [
        "## AlexNet\n",
        "\n",
        "Agora já temos todo o conhecimento necessário para implementar nossa primeira arquitetura moderna.\n",
        "Vamos implementar a [AlexNet](https://papers.nips.cc/paper/4824-imagenet-classification-with-deep-convolutional-neural-networks.pdf), uma das arquiteturas mais famosas dessa nova onda de rede neurais.\n",
        "\n",
        "<p align=\"center\">\n",
        "  <img width=700 src=\"https://www.researchgate.net/profile/Jaime_Gallego2/publication/318168077/figure/fig1/AS:578190894927872@1514862859810/AlexNet-CNN-architecture-layers.png\">\n",
        "</p>\n",
        "\n",
        "<p align=\"center\">\n",
        "  <img width=700 src=\"https://miro.medium.com/max/700/1*vXBvV_Unz3JAxytc5iSeoQ.png\">\n",
        "</p>\n",
        "\n",
        "Lembre-se que, após cada camada de convolução e linear, há uma ativação não linear ReLU."
      ]
    },
    {
      "cell_type": "code",
      "execution_count": null,
      "metadata": {
        "id": "n49zil6YlpwL"
      },
      "outputs": [],
      "source": [
        "root = os.path.join('~', '.pytorch', 'datasets', 'cifar10')"
      ]
    },
    {
      "cell_type": "code",
      "execution_count": null,
      "metadata": {
        "id": "LMWfNHpvIoRR",
        "colab": {
          "base_uri": "https://localhost:8080/"
        },
        "outputId": "c764aff6-7a06-472e-e64c-eb135a878c42"
      },
      "outputs": [
        {
          "output_type": "stream",
          "name": "stdout",
          "text": [
            "----------------------------------------------------------------\n",
            "        Layer (type)               Output Shape         Param #\n",
            "================================================================\n",
            "            Conv2d-1           [-1, 96, 55, 55]          34,944\n",
            "              ReLU-2           [-1, 96, 55, 55]               0\n",
            "         MaxPool2d-3           [-1, 96, 27, 27]               0\n",
            "            Conv2d-4          [-1, 256, 27, 27]         614,656\n",
            "              ReLU-5          [-1, 256, 27, 27]               0\n",
            "         MaxPool2d-6          [-1, 256, 13, 13]               0\n",
            "            Conv2d-7          [-1, 384, 13, 13]         885,120\n",
            "              ReLU-8          [-1, 384, 13, 13]               0\n",
            "            Conv2d-9          [-1, 384, 13, 13]       1,327,488\n",
            "             ReLU-10          [-1, 384, 13, 13]               0\n",
            "           Conv2d-11          [-1, 256, 13, 13]         884,992\n",
            "             ReLU-12          [-1, 256, 13, 13]               0\n",
            "        MaxPool2d-13            [-1, 256, 6, 6]               0\n",
            "          Flatten-14                 [-1, 9216]               0\n",
            "           Linear-15                 [-1, 4096]      37,752,832\n",
            "             ReLU-16                 [-1, 4096]               0\n",
            "          Dropout-17                 [-1, 4096]               0\n",
            "           Linear-18                 [-1, 4096]      16,781,312\n",
            "             ReLU-19                 [-1, 4096]               0\n",
            "          Dropout-20                 [-1, 4096]               0\n",
            "           Linear-21                   [-1, 10]          40,970\n",
            "================================================================\n",
            "Total params: 58,322,314\n",
            "Trainable params: 58,322,314\n",
            "Non-trainable params: 0\n",
            "----------------------------------------------------------------\n",
            "Input size (MB): 0.59\n",
            "Forward/backward pass size (MB): 11.11\n",
            "Params size (MB): 222.48\n",
            "Estimated Total Size (MB): 234.18\n",
            "----------------------------------------------------------------\n",
            "None\n",
            "training on cuda\n",
            "epoch 1, train loss 2.2816, train acc 0.119, test loss 2.1136, test acc 0.206, time 97.2 sec\n",
            "epoch 2, train loss 1.8408, train acc 0.310, test loss 1.6109, test acc 0.388, time 98.8 sec\n",
            "epoch 3, train loss 1.5940, train acc 0.412, test loss 1.4492, test acc 0.463, time 98.5 sec\n",
            "epoch 4, train loss 1.4648, train acc 0.468, test loss 1.3558, test acc 0.511, time 97.9 sec\n",
            "epoch 5, train loss 1.3701, train acc 0.506, test loss 1.2927, test acc 0.527, time 98.5 sec\n",
            "epoch 6, train loss 1.2916, train acc 0.535, test loss 1.2366, test acc 0.556, time 98.8 sec\n",
            "epoch 7, train loss 1.2298, train acc 0.560, test loss 1.2236, test acc 0.570, time 98.9 sec\n",
            "epoch 8, train loss 1.1780, train acc 0.582, test loss 1.1547, test acc 0.586, time 98.1 sec\n",
            "epoch 9, train loss 1.1282, train acc 0.600, test loss 1.1390, test acc 0.590, time 98.3 sec\n",
            "epoch 10, train loss 1.0846, train acc 0.615, test loss 1.1005, test acc 0.613, time 98.2 sec\n"
          ]
        }
      ],
      "source": [
        "# Implementa sua rede neural aqui\n",
        "# Voce pode implementar como uma classe (pois fica mais organizado e é mais facilitado para um debug da rede)\n",
        "# Dica: utilize blocos de sequential para diminuir a complexidade da função de forward\n",
        "# rede baseada na AlexNet\n",
        "class AlexNet(nn.Module):\n",
        "    def __init__(self, input_channels, classes=10, **kwargs):\n",
        "        super(AlexNet, self).__init__(**kwargs)\n",
        "        # Defina aqui a arquitetura da rede\n",
        "        self.net = nn.Sequential(\n",
        "            nn.Conv2d(input_channels, 96, kernel_size=11, stride=4, padding=0), # conv1\n",
        "            nn.ReLU(),\n",
        "            nn.MaxPool2d(kernel_size=3, stride=2, padding=0), # max1\n",
        "            nn.Conv2d(96, 256, kernel_size=5, stride=1, padding=2), # conv2\n",
        "            nn.ReLU(),\n",
        "            nn.MaxPool2d(kernel_size=3, stride=2, padding=0), # max2\n",
        "            nn.Conv2d(256, 384, kernel_size=3, stride=1, padding=1), # conv3\n",
        "            nn.ReLU(),\n",
        "            nn.Conv2d(384, 384, kernel_size=3, stride=1, padding=1), # conv4\n",
        "            nn.ReLU(),\n",
        "            nn.Conv2d(384, 256, kernel_size=3, stride=1, padding=1), # conv5\n",
        "            nn.ReLU(),\n",
        "            nn.MaxPool2d(kernel_size=3, stride=2, padding=0), # max3\n",
        "        )\n",
        "\n",
        "        self.clas = nn.Sequential(\n",
        "            nn.Flatten(),\n",
        "            nn.Linear(256 * 6 * 6, 4096),\n",
        "            nn.ReLU(),\n",
        "            nn.Dropout(0.5),\n",
        "            nn.Linear(4096, 4096),\n",
        "            nn.ReLU(),\n",
        "            nn.Dropout(0.5),\n",
        "            nn.Linear(4096, classes)\n",
        "        )\n",
        "\n",
        "    def forward(self, x):\n",
        "        # defina aqui a função de forward\n",
        "        c = self.net(x)\n",
        "        out = self.clas(c)\n",
        "        return out\n",
        "\n",
        "# parâmetros: número de epochs, learning rate (ou taxa de aprendizado),\n",
        "# tamanho do batch, e lambda do weight decay\n",
        "num_epochs, lr, batch_size, wd_lambda = 10, 0.001, 100, 0.0001\n",
        "\n",
        "net = AlexNet(input_channels=3)\n",
        "net.to(device)\n",
        "print(summary(net,(3,227,227)))\n",
        "\n",
        "loss = nn.CrossEntropyLoss()\n",
        "\n",
        "# carregamento do dado: cifar10\n",
        "train_iter, test_iter = load_data_cifar10(batch_size, resize=227, root=root)\n",
        "trainer = optim.Adam(net.parameters(), lr=lr, weight_decay=wd_lambda)\n",
        "train_validate(net, train_iter, test_iter, batch_size, trainer, loss, num_epochs)"
      ]
    }
  ],
  "metadata": {
    "colab": {
      "provenance": [],
      "gpuType": "T4"
    },
    "kernelspec": {
      "display_name": "Python 3",
      "name": "python3"
    },
    "language_info": {
      "codemirror_mode": {
        "name": "ipython",
        "version": 3
      },
      "file_extension": ".py",
      "mimetype": "text/x-python",
      "name": "python",
      "nbconvert_exporter": "python",
      "pygments_lexer": "ipython3",
      "version": "3.11.2"
    },
    "accelerator": "GPU"
  },
  "nbformat": 4,
  "nbformat_minor": 0
}